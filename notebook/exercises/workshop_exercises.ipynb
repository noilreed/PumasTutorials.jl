{
  "cells": [
    {
      "cell_type": "markdown",
      "source": [
        "# Pumas.jl Workshop Exercises\n### Chris Rackauckas, Vijay Ivaturi\n\nThese exercises teach common workflows which involve Pumas.jl. This exercise\nworksheet is meant to be a living document leading new users through a deep dive\nof the Pumas.jl feature set. If you have further suggestions or want to contribute\nnew problems, please open an issue or PR at the\n[PumasTutorials.jl](https://github.com/PumasAI/PumasTutorials.jl) repository.\n\nThe exercises are described as follows:\n\n- Exercise 1 takes you through simulating a compartmental system in Pumas. The\n  user will gain experience in writing a model using the Pumas Domain Specific\n  Language (DSL), setting up a dosing regimen and population, simulating the\n  model into the designed population and finally plotting the results of the\n  simulation.\n- Exercise 2 takes the user through performing an Non-compartmental analysis\n  (NCA). The user will get familiarized with reading data sets in a spread\n  sheet format (e.g, .csv) or as the simulated output as in exercise 1 and\n  perform a simple NCA analysis.\n- Exercise 3 introduces the user to perform a non-linear mixed effects modeling\n  estimation (NLME) on pharmacokinetic data. The user will learn how to read and\n  set up the data for NLME estimation, fit the model, infer and inspect the\n  results of the model fit.\n- Exercise 4 introduces the user to various post-processing steps of model\n  fitting, including using the final\n  model fits to peform simulation into an alternate dosing regimen or populaion\n  of interest.\n\n# Problem 1: Simulate a first-order absorption model with linear elimination after a 100 mg oral dose in 24 subjects\n\nIn this poblem, we will walk through the basics of writing a model with Pumas.jl.\nThe pharmacokinetics after an oral dose are commonly described by a first-order\nprocess. In our example we will use a linear one-compartmental system for\nelimination of the drugs.\n\n## Part 1: Understand the system\n\nLet's understand the system by setting up the differential equation or the\nanalytical solution that describes the systems\n\n$$\\begin{align}\n\\frac{dDepot}{dt} &= -K_a.Depot\\\\\n\\frac{dCentral}{dt} &= K_a.Depot - (CL/V).Central\\end{align}$$\n\nThe analytical form of this equation to calculate the concentration, `Cp` at\nany given time can be written as\n\n$$Cp = \\frac{F \\times Dose \\times K_a}{V (K_a-K_{el})}(e^{-K_{el} t} - e^{-K_a t})$$\n\nwhere the parameters are: `Ka = 1 hr-1`, `CL = 1 L/hr`, `V = 20 L/hr`.\n\n## Part 2: Setup the population\n\nSetting up a dosing regimen and population of subjects. Go through the section on [Generating and simulating populations](https://tutorials.pumas.ai/html/introduction/simulating_populations.html) in the\ntutorials to set up a population of 24 subjects that receives 100 mg dose via the mouth and assign a random body weight to each subjects\n\n## Part 3: Write the model\n\nWrite up a first-order absorption model where body weight is a covariate on `CL` and `V`.\nunderstand the different steps of writing up a model by referring to the\ndocumentation on [models](https://docs.pumas.ai/dev/basics/models/).\n\n## Part 4: Simulate\n\nPerform the simulation by using the `simobs` function. The details on the use of `simobs` can be seen in the documentation on [simulation](https://docs.pumas.ai/dev/basics/simulation/) and by\nlooking at one of the [tutorials](https://tutorials.pumas.ai/html/introduction/introduction.html). Finish by plotting the result of the simulation.\n\n# Problem 2: Peform Non-compartmental analysis\n\nUse the dataset generated from Problem 1 that is stored as a CSV file [here]()\nto read in the data using the `read_nca` function and\ngenerate a NCA report. You can know more about how to do this by looking at\none of the [NCA tutorials](https://tutorials.pumas.ai/html/nca/basic_nca.html)\n\n# Problem 3: Estimate using Non-linear mixed effects\n\nThe same dataset that was read in for NCA analysis will be used for fitting a\nNLME model. You can learn more on how to read the data in for NLME estimation\nusing `read_pumas` by following the tutorial in the\n[readme](https://github.com/PumasAI/Pumas.jl/blob/master/README.md#fit) or the\n[documentation](https://docs.pumas.ai/dev/basics/doses_subjects_populations/)\n\n## Part 1: Read datasets for NLME estimation\n\nRead the dataset and evaluate the Population\n\n## Part 2: Perform a model fit\n\nFit the model using FOCEI() estimation\n\n## Part 3: Infer the results\n\nInfer the results of your `fit`\n\n## Part 4: Inspect the results\n\nInspect the results of your `fit`"
      ],
      "metadata": {}
    }
  ],
  "nbformat_minor": 2,
  "metadata": {
    "language_info": {
      "file_extension": ".jl",
      "mimetype": "application/julia",
      "name": "julia",
      "version": "1.3.1"
    },
    "kernelspec": {
      "name": "julia-1.3",
      "display_name": "Julia 1.3.1",
      "language": "julia"
    }
  },
  "nbformat": 4
}
