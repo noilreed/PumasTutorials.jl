{
  "cells": [
    {
      "cell_type": "markdown",
      "source": [
        "# Problem 1: Simulate a first-order absorption model with linear elimination after a 100 mg oral dose in 24 subjects\n\nParameters are: `Ka = 1 hr-1`, `CL = 1 L/hr`, `V = 20 L/hr`.\n\n## Part 1: Setup the population"
      ],
      "metadata": {}
    },
    {
      "outputs": [],
      "cell_type": "code",
      "source": [
        "using Pumas, Plots, CSV, Random\nRandom.seed!(0)"
      ],
      "metadata": {},
      "execution_count": null
    },
    {
      "outputs": [],
      "cell_type": "code",
      "source": [
        "single_dose_regimen = DosageRegimen(100, time=0)\nfirst(single_dose_regimen.data)"
      ],
      "metadata": {},
      "execution_count": null
    },
    {
      "cell_type": "markdown",
      "source": [
        "to build a single subject"
      ],
      "metadata": {}
    },
    {
      "outputs": [],
      "cell_type": "code",
      "source": [
        "s1 = Subject(id=1, events=single_dose_regimen, covariates=(Wt=70,))"
      ],
      "metadata": {},
      "execution_count": null
    },
    {
      "cell_type": "markdown",
      "source": [
        "let's first define a function to choose body weight randomly"
      ],
      "metadata": {}
    },
    {
      "outputs": [],
      "cell_type": "code",
      "source": [
        "choose_covariates() = (Wt = rand(55:80),)"
      ],
      "metadata": {},
      "execution_count": null
    },
    {
      "cell_type": "markdown",
      "source": [
        "Then, we use it to generate a population of subjects with a random weight generated from the covariate function above"
      ],
      "metadata": {}
    },
    {
      "outputs": [],
      "cell_type": "code",
      "source": [
        "pop = Population(map(i -> Subject(id = i, events=single_dose_regimen, covariates=choose_covariates()),1:24))"
      ],
      "metadata": {},
      "execution_count": null
    },
    {
      "cell_type": "markdown",
      "source": [
        "You can view the generated population using by calling a random subject by index and look at\nthe subject's\n\n* covariates\n* events\n* id numbers\n* observations\n* time\n\nLet us us peek at the first subject's covariates"
      ],
      "metadata": {}
    },
    {
      "outputs": [],
      "cell_type": "code",
      "source": [
        "pop[1].covariates"
      ],
      "metadata": {},
      "execution_count": null
    },
    {
      "cell_type": "markdown",
      "source": [
        "## Part 2: Write the model"
      ],
      "metadata": {}
    },
    {
      "outputs": [],
      "cell_type": "code",
      "source": [
        "mymodel = @model begin\n  @param   begin\n    tvcl ∈ RealDomain(lower=0, init = 1.0)\n    tvv ∈ RealDomain(lower=0, init = 20)\n    tvka ∈ RealDomain(lower = 0, init= 1)\n    Ω ∈ PDiagDomain(init=[0.09,0.09, 0.09])\n    σ_prop ∈ RealDomain(lower=0,init=0.04)\n  end\n\n  @random begin\n    η ~ MvNormal(Ω)\n  end\n\n  @pre begin\n    CL = tvcl * (Wt/70)^0.75 * exp(η[1])\n    Vc  = tvv * (Wt/70) * exp(η[2])\n    Ka = tvka * exp(η[3])\n  end\n  @covariates Wt\n\n  @dynamics Depots1Central1\n    #@dynamics begin\n    #    Depot' =  -Ka*Depot\n    #    Central' =  Ka*Depot - (CL/V)*Central\n    #end\n\n  @derived begin\n      cp = @. 1000*(Central / Vc)\n      dv ~ @. Normal(cp, sqrt(cp^2*σ_prop))\n    end\nend"
      ],
      "metadata": {},
      "execution_count": null
    },
    {
      "cell_type": "markdown",
      "source": [
        "Note that above, we are using the analytical solution in `@dynamics`. You can switch to using the\ndifferential equation system if you prefer.\n\n## Part 3: Simulate\n\nLet's first extract the model parameters"
      ],
      "metadata": {}
    },
    {
      "outputs": [],
      "cell_type": "code",
      "source": [
        "param = init_param(mymodel)"
      ],
      "metadata": {},
      "execution_count": null
    },
    {
      "cell_type": "markdown",
      "source": [
        "Then using the `simobs` function, carry out the simulation and visualize the simulation output"
      ],
      "metadata": {}
    },
    {
      "outputs": [],
      "cell_type": "code",
      "source": [
        "obs = simobs(mymodel, pop, param, obstimes=0:1:72)\nplot(obs)"
      ],
      "metadata": {},
      "execution_count": null
    },
    {
      "cell_type": "markdown",
      "source": [
        "where\n* `mymodel` is the model setup in the Part 2,\n* `pop` is the population of subjects that was setup in Part 1\n* `param` is the specified set of model parameters\n* `obstimes` specifies the simulation time period.\n\n# Problem 2: Peform Non-compartmental analysis\n\nWe will start by generating a dataframe of the resuls from the simulation step"
      ],
      "metadata": {}
    },
    {
      "outputs": [],
      "cell_type": "code",
      "source": [
        "simdf = DataFrame(obs)\nfirst(simdf, 6)"
      ],
      "metadata": {},
      "execution_count": null
    },
    {
      "cell_type": "markdown",
      "source": [
        "For the purpose of NCA, let us use the `cp` (output without residual error) as our observed value\n\nTo prepare the dataset for NCA analysis, let us use the `read_nca` function. The NCA datasets in Pumas requires\na `route` specification which can either be `iv` or `ev`. Since this is an oral drug administration, lets add that\nto the `simdf`."
      ],
      "metadata": {}
    },
    {
      "outputs": [],
      "cell_type": "code",
      "source": [
        "simdf[!, :route] .= \"ev\""
      ],
      "metadata": {},
      "execution_count": null
    },
    {
      "cell_type": "markdown",
      "source": [
        "Next we can define time, concentration and dose units so the report includes the units for the pharmacokinetic parameters.\nThe general syntax for units are `u` followed by the unit in quotes `\"\"`."
      ],
      "metadata": {}
    },
    {
      "outputs": [],
      "cell_type": "code",
      "source": [
        "timeu = u\"hr\"\nconcu = u\"mg/L\"\namtu  = u\"mg\""
      ],
      "metadata": {},
      "execution_count": null
    },
    {
      "outputs": [],
      "cell_type": "code",
      "source": [
        "ncadf = read_nca(simdf, id=:id, time=:time, conc=:cp, amt=:amt,\n    route=:route,timeu=timeu, concu=concu, amtu=amtu, lloq=0.4concu)"
      ],
      "metadata": {},
      "execution_count": null
    },
    {
      "cell_type": "markdown",
      "source": [
        "You can view the concentration-time plots by doing"
      ],
      "metadata": {}
    },
    {
      "outputs": [],
      "cell_type": "code",
      "source": [
        "plot(ncadf)"
      ],
      "metadata": {},
      "execution_count": null
    },
    {
      "cell_type": "markdown",
      "source": [
        "You can then generate `cmax` and `auc` for each subject"
      ],
      "metadata": {}
    },
    {
      "outputs": [],
      "cell_type": "code",
      "source": [
        "auc = NCA.auc(ncadf)"
      ],
      "metadata": {},
      "execution_count": null
    },
    {
      "outputs": [],
      "cell_type": "code",
      "source": [
        "cmax = NCA.cmax(ncadf)"
      ],
      "metadata": {},
      "execution_count": null
    },
    {
      "cell_type": "markdown",
      "source": [
        "Or generate the entire NCA report using"
      ],
      "metadata": {}
    },
    {
      "outputs": [],
      "cell_type": "code",
      "source": [
        "report = NCAReport(ncadf)\nfirst(report,6)"
      ],
      "metadata": {},
      "execution_count": null
    },
    {
      "cell_type": "markdown",
      "source": [
        "# Problem 3: Estimate using Non-linear mixed effects\n\nWe can use the simulated dataset in the Problem 1 for our estimation. We need a couple of data manipulation steps\n\n1. missing `cmt` should be converted to 2 to reflect central compartment\n2. data rows where `time = 0`, and `cp=0` should be removed"
      ],
      "metadata": {}
    },
    {
      "outputs": [],
      "cell_type": "code",
      "source": [
        "simdf.cmt = ifelse.(ismissing.(simdf.cmt), 2, simdf.cmt)\nest_df = simdf[.!((simdf.dv .== 0.0) .& (simdf.cmt .==2)),:]\nfirst(est_df,6)"
      ],
      "metadata": {},
      "execution_count": null
    },
    {
      "cell_type": "markdown",
      "source": [
        "## Part 1: Read datasets for NLME estimation\n\nWe can use the `read_pumas` function to prepare the dataset for NLME estimation"
      ],
      "metadata": {}
    },
    {
      "outputs": [],
      "cell_type": "code",
      "source": [
        "data = read_pumas(est_df, covariates=[:Wt], observations=[:dv])"
      ],
      "metadata": {},
      "execution_count": null
    },
    {
      "cell_type": "markdown",
      "source": [
        "where\n\n* `covariates` is a symbol that maps to the columns of covariates\n* `observations` is a symbol that maps to the columns of dependent variables\n* since the dataframe has `time` as the variable, the function does not need a specific input\n\n\n## Part 2: Perform a model fit\n\nWe now use the\n* `mymodel` model that we wrote earlier\n* the set of parameters specified in `param` as initial estimates\n* `data` that was read in using the `read_pumas` function\n\nto fit the model."
      ],
      "metadata": {}
    },
    {
      "outputs": [],
      "cell_type": "code",
      "source": [
        "res = fit(mymodel, data, param, Pumas.FOCEI())"
      ],
      "metadata": {},
      "execution_count": null
    },
    {
      "cell_type": "markdown",
      "source": [
        "## Part 3: Infer the results\n\ninfer provides the model inference"
      ],
      "metadata": {}
    },
    {
      "outputs": [],
      "cell_type": "code",
      "source": [
        "infer(res)"
      ],
      "metadata": {},
      "execution_count": null
    },
    {
      "cell_type": "markdown",
      "source": [
        "## Part 4: Inspect the results\n\ninspect gives you the\n* model predictions\n* residuals\n* Empirical Bayes estimates"
      ],
      "metadata": {}
    },
    {
      "outputs": [],
      "cell_type": "code",
      "source": [
        "preds = DataFrame(predict(res))\nfirst(preds, 6)"
      ],
      "metadata": {},
      "execution_count": null
    },
    {
      "outputs": [],
      "cell_type": "code",
      "source": [
        "resids = DataFrame(wresiduals(res))\nfirst(resids, 6)"
      ],
      "metadata": {},
      "execution_count": null
    },
    {
      "outputs": [],
      "cell_type": "code",
      "source": [
        "ebes = DataFrame(empirical_bayes(res))\nfirst(ebes, 6)"
      ],
      "metadata": {},
      "execution_count": null
    },
    {
      "cell_type": "markdown",
      "source": [
        "There is an `inspect` function that provides all the results at once\n\n_Note that this function below fails to convert into a dataframe due to a bug. Will be fixed soon_"
      ],
      "metadata": {}
    },
    {
      "outputs": [],
      "cell_type": "code",
      "source": [
        "resout = DataFrame(inspect(res))\nfirst(resout, 6)"
      ],
      "metadata": {},
      "execution_count": null
    }
  ],
  "nbformat_minor": 2,
  "metadata": {
    "language_info": {
      "file_extension": ".jl",
      "mimetype": "application/julia",
      "name": "julia",
      "version": "1.5.0"
    },
    "kernelspec": {
      "name": "julia-1.5",
      "display_name": "Julia 1.5.0",
      "language": "julia"
    }
  },
  "nbformat": 4
}
