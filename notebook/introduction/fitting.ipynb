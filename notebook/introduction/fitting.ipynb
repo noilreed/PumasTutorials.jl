{
  "cells": [
    {
      "cell_type": "markdown",
      "source": [
        "# Fitting a PK model\nIn this tutorial we will go through the steps required to fit a model in Pumas.jl.\n\n## The dosage regimen\nWe start by simulating a population from a two compartment model with oral\nabsorption, and then we show how to fit and do some model validation using\nthe fit output."
      ],
      "metadata": {}
    },
    {
      "outputs": [],
      "cell_type": "code",
      "source": [
        "using Pumas, Plots, Random\nRandom.seed!(0);"
      ],
      "metadata": {},
      "execution_count": null
    },
    {
      "cell_type": "markdown",
      "source": [
        "The dosage regimen is an dose of 100 into `Depot` at time 0, followed\nby two additional (`addl=2`) doses every fourth hour"
      ],
      "metadata": {}
    },
    {
      "outputs": [],
      "cell_type": "code",
      "source": [
        "repeated_dose_regimen = DosageRegimen(100, time=0, ii=4, addl=2)"
      ],
      "metadata": {},
      "execution_count": null
    },
    {
      "cell_type": "markdown",
      "source": [
        "As ususal, let's define a function to choose body weight randomly\nper subject"
      ],
      "metadata": {}
    },
    {
      "outputs": [],
      "cell_type": "code",
      "source": [
        "choose_covariates() = (Wt = rand(55:80),)"
      ],
      "metadata": {},
      "execution_count": null
    },
    {
      "cell_type": "markdown",
      "source": [
        "and generate a population of subjects with a random weight generated from the covariate function above"
      ],
      "metadata": {}
    },
    {
      "outputs": [],
      "cell_type": "code",
      "source": [
        "pop = Population(map(i -> Subject(id = i,\n                                  events = repeated_dose_regimen,\n                                  observations =(dv=Float64[],),\n                                  covariates = choose_covariates()),\n                                  1:24))"
      ],
      "metadata": {},
      "execution_count": null
    },
    {
      "cell_type": "markdown",
      "source": [
        "We now have 24 subjects equipped with a weight and a dosage regimen.\n## The PK model of drug concentration and elimination\nTo simulate a data set and attempt to estimate the data generating\nparameters, we have to set up the actual pharmacokinetics (PK) model\nand simulate the data. We use the closed form model called `Depots1Central1Periph1`\nwhich is a two compartment model with first order absorption. This\nrequires `CL`, `Vc`, `Ka`, `Vp`, and `Q` to be defined in\nthe `@pre`-block, since they define the rates of transfer between\n(and out of) the compartments"
      ],
      "metadata": {}
    },
    {
      "outputs": [],
      "cell_type": "code",
      "source": [
        "mymodel = @model begin\n  @param   begin\n    cl ∈ RealDomain(lower = 0.0, init = 1.0)\n    tv ∈ RealDomain(lower = 0.0, init = 10.0)\n    ka ∈ RealDomain(lower = 0.0, init = 1.0)\n    q  ∈ RealDomain(lower = 0.0, init = 0.5)\n    Ω  ∈ PDiagDomain(init = [0.9,0.07, 0.05])\n    σ_prop ∈ RealDomain(lower = 0,init = 0.03)\n  end\n\n  @random begin\n    η ~ MvNormal(Ω)\n  end\n\n  @covariates Wt\n\n  @pre begin\n    CL = cl * (Wt/70)^0.75 * exp(η[1])\n    Vc = tv * (Wt/70) * exp(η[2])\n    Ka = ka * exp(η[3])\n    Vp = 30.0\n    Q  = q\n  end\n\n  @dynamics Depots1Central1Periph1\n\n  @derived begin\n      cp := @. 1000*(Central / Vc) # We use := because we don't want simobs to store the variable\n      dv ~ @. Normal(cp, abs(cp)*σ_prop)\n    end\nend"
      ],
      "metadata": {},
      "execution_count": null
    },
    {
      "cell_type": "markdown",
      "source": [
        "Some parameters are left free by giving them domains in the `@param`-block,\nand one PK parameter (the volume of distribution of the peripheral compartment)\nis fixed to 20.0. \n\n## Simulating the indiviual observations\n\nThe `simobs` function is used to simulate individual time series. We input\nthe model, the population of Subjects that currently only have dosage regimens\nand covariates, the parameter vector and the times where we want to simulate.\nSince we have a proportional error model we avoid observations at time zero to\navoid degenerate distributions of the dependent variable. The problem is, that\nif the concentration is zero the variance in distribution of the\nexplained variable will also be zero. Let's use the default\nparameters, as set in the `@param`-block, and simulate the data"
      ],
      "metadata": {}
    },
    {
      "outputs": [],
      "cell_type": "code",
      "source": [
        "param = init_param(mymodel)\nobs = simobs(mymodel, pop, param, obstimes=1:1:72)\nplot(obs)"
      ],
      "metadata": {},
      "execution_count": null
    },
    {
      "cell_type": "markdown",
      "source": [
        "## Fitting the model\nTo fit the model, we use the `fit` function. It requires a model, a population,\na named tuple of parameters and a likelihood approximation method."
      ],
      "metadata": {}
    },
    {
      "outputs": [],
      "cell_type": "code",
      "source": [
        "result = fit(mymodel, Subject.(obs), param, Pumas.FOCEI())"
      ],
      "metadata": {},
      "execution_count": null
    },
    {
      "cell_type": "markdown",
      "source": [
        "Of course, we started the fitting at the true parameters, so let us define\nour own starting parameters, and fit based on those values"
      ],
      "metadata": {}
    },
    {
      "outputs": [],
      "cell_type": "code",
      "source": [
        "alternative_param = (\n    cl = 0.5,\n    tv = 9.0,\n    ka = 1.3,\n    q  = 0.3,\n    Ω  = Diagonal([0.18,0.04, 0.03]),\n    σ_prop = 0.04)\n\nfit(mymodel, Subject.(obs), alternative_param, Pumas.FOCEI())"
      ],
      "metadata": {},
      "execution_count": null
    },
    {
      "cell_type": "markdown",
      "source": [
        "and we see that the estimates are essentially the same up to numerical noise.\n\n\nTo augment the basic information listed when we print the results,\nwe can use `infer` to provide RSEs and confidence intervals"
      ],
      "metadata": {}
    },
    {
      "outputs": [],
      "cell_type": "code",
      "source": [
        "infer(result)"
      ],
      "metadata": {},
      "execution_count": null
    },
    {
      "cell_type": "markdown",
      "source": [
        "So as we observed earlier, the parameters look like they have sensible\nvalues. The confidence intervals are a bit wide, and especially so for\nthe random effect variability parameters. To see how we can use simulation\nto better understand the statistical properties of our model, we can\nsimulate a much larger population and try again"
      ],
      "metadata": {}
    },
    {
      "outputs": [],
      "cell_type": "code",
      "source": [
        "pop_big = Population(map(i -> Subject(id = i,\n                                  events = repeated_dose_regimen,\n                                  observations =(dv=Float64[],),\n                                  covariates = choose_covariates()),\n                                  1:100))\nobs_big = simobs(mymodel, pop_big, param, obstimes=1:1:72)\nresult_big = fit(mymodel, Subject.(obs_big), param, Pumas.FOCEI())\ninfer(result_big)"
      ],
      "metadata": {},
      "execution_count": null
    },
    {
      "cell_type": "markdown",
      "source": [
        "This time we see similar estimates, but much narrower confidence intervals\nacross the board.\n\n## Estimating a misspecified model\nTo explore some of the diagnostics tools available in Julia, we can try \nto set up a model that does not fit out data generating process. This time\nwe propose a one compartent model. The problem with estimating a one compartment\nmodel when the data comes from a two compartment model, is that we cannot capture\nthe change in slope on the concentration profile you get with a two compartment model.\nThis means that even if we can capture the model fit someone well on average, we\nshould expect to see systematic trends in the residual diagnostics post estimation."
      ],
      "metadata": {}
    },
    {
      "outputs": [],
      "cell_type": "code",
      "source": [
        "mymodel_misspec = @model begin\n  @param   begin\n    cl ∈ RealDomain(lower = 0.0, init = 1.0)\n    tv ∈ RealDomain(lower = 0.0, init = 20.0)\n    ka ∈ RealDomain(lower = 0.0, init = 1.0)\n    Ω  ∈ PDiagDomain(init = [0.12, 0.05, 0.08])\n    σ_prop ∈ RealDomain(lower = 0, init = 0.03)\n  end\n\n  @random begin\n    η ~ MvNormal(Ω)\n  end\n\n  @pre begin\n    CL = cl * (Wt/70)^0.75 * exp(η[1])\n    Vc = tv * (Wt/70) * exp(η[2])\n    Ka = ka * exp(η[3])\n  end\n  @covariates Wt\n\n  @dynamics Depots1Central1\n\n  @derived begin\n      cp = @. 1000*(Central / Vc)\n      dv ~ @. Normal(cp, abs(cp)*σ_prop)\n    end\nend"
      ],
      "metadata": {},
      "execution_count": null
    },
    {
      "outputs": [],
      "cell_type": "code",
      "source": [
        "alternative_param_no_q = (\n    cl = 0.5,\n    tv = 9.0,\n    ka = 1.3,\n    Ω  = Diagonal([0.18,0.04, 0.03]),\n    σ_prop = 0.04)\n\nresult_misspec = fit(mymodel_misspec, Subject.(obs), alternative_param_no_q, Pumas.FOCEI())"
      ],
      "metadata": {},
      "execution_count": null
    },
    {
      "cell_type": "markdown",
      "source": [
        "First off, the absorption flow parameters `ka` is quite off the charts,\nso that would be a warning sign off the bat, but let us try to use a\ntool in the toolbox to asses the fit: the weighted residuals. We get\nthese by using the `wresiduals` function"
      ],
      "metadata": {}
    },
    {
      "outputs": [],
      "cell_type": "code",
      "source": [
        "wres = wresiduals(result)\nwres_misspec = wresiduals(result_misspec)\np1 = plot([w.wres.dv for w in wres], title=\"Correctly specified\", legend=false)\np2 = plot([w.wres.dv for w in wres_misspec], title = \"Misspecified\", legend=false)\nplot(p1, p2)"
      ],
      "metadata": {},
      "execution_count": null
    },
    {
      "cell_type": "markdown",
      "source": [
        "The weighted residuals should be standard normally distributed with throughout the time\ndomain. We see that this is the case for the correctly specified model, but certainly not\nfor the misspecified model. That latter has a very clear pattern in time. This comes from\nthe fact that the one compartment model is not able to capture the change in slope\nas time progresses, so it can never accurately capture the curves generated by a\ntwo compartment model.\n\n### Conclusion\nThis tutorial showed how to use fitting in Pumas.jl based on a simulated data set. There\nare many more models and simulation experiments to explore. Please try out `fit` on your\nown data and model, and reach out if further questions or problems come up."
      ],
      "metadata": {}
    }
  ],
  "nbformat_minor": 2,
  "metadata": {
    "language_info": {
      "file_extension": ".jl",
      "mimetype": "application/julia",
      "name": "julia",
      "version": "1.5.0"
    },
    "kernelspec": {
      "name": "julia-1.5",
      "display_name": "Julia 1.5.0",
      "language": "julia"
    }
  },
  "nbformat": 4
}
