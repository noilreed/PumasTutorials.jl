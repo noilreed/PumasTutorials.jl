{
  "cells": [
    {
      "outputs": [],
      "cell_type": "code",
      "source": [
        "using Pumas, DataFrames, LinearAlgebra, Plots"
      ],
      "metadata": {},
      "execution_count": null
    },
    {
      "cell_type": "markdown",
      "source": [
        "# Introduction\n\nIn this tutorial, we will cover the fundamentals of generating populations\nto simulate with Pumas. We will demonstrate how to specify dosage regimens and\ncovariates, and then how to piece these together to form a population to\nsimulate.\n\n## The model\n\nBelow is a Pumas model that specifies a 1-compartment oral absorption system\nwith between-subject variability on all the parameters. Details of the model\nspecification are provided in the introduction tutorial."
      ],
      "metadata": {}
    },
    {
      "outputs": [],
      "cell_type": "code",
      "source": [
        "model = @model begin\n  @param begin\n    θ ∈ VectorDomain(4)\n    Ω ∈ PSDDomain(3)\n    σ_prop ∈ RealDomain(init=0.1)\n  end\n\n  @random begin\n    η ~ MvNormal(Ω)\n  end\n\n  @covariates isPM Wt\n\n  @pre begin\n    TVCL = isPM == 1 ? θ[1] : θ[4]\n    CL = θ[1]*(Wt/70)^0.75*exp(η[1])\n    V = θ[2]*(Wt/70)^0.75*exp(η[2])\n    Ka = θ[3]*exp(η[3])\n  end\n\n  @dynamics begin\n    Depot'   = -Ka*Depot\n    Central' =  Ka*Depot - Central*CL/V\n  end\n\n  @vars begin\n    conc = Central/V\n  end\n\n  @derived begin\n    dv ~ @.Normal(conc,sqrt(conc^2*σ_prop+ eps()))\n  end\n\nend"
      ],
      "metadata": {},
      "execution_count": null
    },
    {
      "cell_type": "markdown",
      "source": [
        "## Setting up parameters\n\nNext we provide the initial estimates of the parameters to simulate from. The fixed effects are provided\nin the θ vector (CL, V, Ka) and the between-subject variability parameteres are provided in the Ω vector as\nvariances. So, 0.04 variance on Ω_11 suggests a 20% coefficient of variation. Similarly, σ_prop has a 20%\nproportional residual error."
      ],
      "metadata": {}
    },
    {
      "outputs": [],
      "cell_type": "code",
      "source": [
        "fixeffs = (\n  θ = [0.4,20,1.1,2],\n  Ω = diagm(0 => [0.04,0.04,0.04]),\n  σ_prop = 0.04\n  )"
      ],
      "metadata": {},
      "execution_count": null
    },
    {
      "cell_type": "markdown",
      "source": [
        "## Single dose example\n\n`DosageRegimen()` is the function that lets you construct a dosing regimen.\nThe first argument of the `DosageRegimen` is `amt` and is not a named argument.\nAll subsequent arguments need to be named. Lets try a simple example where you\nprovide a 100 mg dose at `time=0`."
      ],
      "metadata": {}
    },
    {
      "outputs": [],
      "cell_type": "code",
      "source": [
        "ev = DosageRegimen(100, time=0)\nfirst(ev.data)"
      ],
      "metadata": {},
      "execution_count": null
    },
    {
      "cell_type": "markdown",
      "source": [
        "As you can see above, we provided a single 100 mg dose. `DosageRegimen` provides some defaults when\nit creates the dataset, `time=0`, `evid=1`, `cmt=1`, `rate=0`, `ii=0` & `addl=0`. We can also provide\nunits to the `amt` and any other variable that is derived from `amt`, e.g. `rate`, will have associated units.\nHandling of units will be covered in a different tutorial.\n\nNote that `ev` is of type `DosageRegimen`. Specified like above,\n`DosageRegimen` is one of the four fundamental building block of a `Subject` (more on `Subject` below).\n\n### Building Subjects\n\nLet's create a single subject"
      ],
      "metadata": {}
    },
    {
      "outputs": [],
      "cell_type": "code",
      "source": [
        "s1 = Subject(id=1,events=ev,covariates=(isPM=0, Wt=70))\nfor fn in fieldnames(Subject)\n    x = getproperty(s1, fn)\n    if !isa(x, Nothing)\n        println(fn)\n        println(x)\n    end\nend"
      ],
      "metadata": {},
      "execution_count": null
    },
    {
      "cell_type": "markdown",
      "source": [
        "Note that each `Subject` is an individual composed of:\n\n  - `id`: an unique identifier\n  - `obs`: observations, represented by `Pumas.Observation[]`\n  - `cvs`: covariates\n  - `evs`: events, represented by `Pumas.Event[]`\n\nIn the example above, we only provided the `id`, `evs`, and the `cvs`. Since  `obs` were not\nprovided, they are represented by an empty array. Lets take a closer at the events for this\nsubject 1."
      ],
      "metadata": {}
    },
    {
      "outputs": [],
      "cell_type": "code",
      "source": [
        "s1.events"
      ],
      "metadata": {},
      "execution_count": null
    },
    {
      "cell_type": "markdown",
      "source": [
        "The events are presented by basic information such as the dose of drug and associated units if specified, the time of dose administration,\nthe compartment number for administration and whether the dose is an instantaneous input or an infusion.\n\nBelow is how the covariates are represented"
      ],
      "metadata": {}
    },
    {
      "outputs": [],
      "cell_type": "code",
      "source": [
        "s1.covariates"
      ],
      "metadata": {},
      "execution_count": null
    },
    {
      "cell_type": "markdown",
      "source": [
        "(Note: defining distributions for covariates will be discussed in detail later.)\n\nUsing this one subject, `s1`, let us simulate a simple concentration time\nprofile using the model above:"
      ],
      "metadata": {}
    },
    {
      "outputs": [],
      "cell_type": "code",
      "source": [
        "obs = simobs(model,s1,fixeffs,obstimes=0:0.1:120)\nplot(obs)"
      ],
      "metadata": {},
      "execution_count": null
    },
    {
      "cell_type": "markdown",
      "source": [
        "### Building Populations\n\nNow, lets create one more subject, `s2`."
      ],
      "metadata": {}
    },
    {
      "outputs": [],
      "cell_type": "code",
      "source": [
        "s2 = Subject(id=2,events=ev,covariates=(isPM=1,Wt=70))"
      ],
      "metadata": {},
      "execution_count": null
    },
    {
      "cell_type": "markdown",
      "source": [
        "If we want to simulate both `s1` and `s2` together, we need to bring these subjects together to form a `Population`. A `Population` is\nessentially a collection of subjects."
      ],
      "metadata": {}
    },
    {
      "outputs": [],
      "cell_type": "code",
      "source": [
        "twosubjs =  Population([s1,s2])"
      ],
      "metadata": {},
      "execution_count": null
    },
    {
      "cell_type": "markdown",
      "source": [
        "Let's see the details of the first and the second subject"
      ],
      "metadata": {}
    },
    {
      "outputs": [],
      "cell_type": "code",
      "source": [
        "twosubjs[1]"
      ],
      "metadata": {},
      "execution_count": null
    },
    {
      "outputs": [],
      "cell_type": "code",
      "source": [
        "twosubjs[2]"
      ],
      "metadata": {},
      "execution_count": null
    },
    {
      "cell_type": "markdown",
      "source": [
        "Now, we can simulate this `Population` of 2 subjects as below"
      ],
      "metadata": {}
    },
    {
      "outputs": [],
      "cell_type": "code",
      "source": [
        "obs = simobs(model,twosubjs,fixeffs,obstimes=0:0.1:120)"
      ],
      "metadata": {},
      "execution_count": null
    },
    {
      "cell_type": "markdown",
      "source": [
        "When using `simobs` on more than one subject, i.e., on a `Population`, the\nsimulation is automatically parallelized across the subejcts."
      ],
      "metadata": {}
    },
    {
      "outputs": [],
      "cell_type": "code",
      "source": [
        "plot(obs)"
      ],
      "metadata": {},
      "execution_count": null
    },
    {
      "cell_type": "markdown",
      "source": [
        "Similarly, we can build a population of any number of subjects. But before we\ndo that, let's dive into covariate generation.\n\n### Covariates\n\nAs was discussed earlier, a `Subject` can also be provided details regarding\ncovariates. In the model above, there are two covariates, `isPM` which stands\nfor _is the subject a poor metabolizer_ and takes a boolean of _yes_ and  _no_.\nThe second covariate is a continuous covariate where body weight `Wt` impacts\nboth `CL` and `V`. Let us now specify covariates to a population of 10 subjects."
      ],
      "metadata": {}
    },
    {
      "outputs": [],
      "cell_type": "code",
      "source": [
        "choose_covariates() = (isPM = rand([1, 0]),\n                    Wt = rand(55:80))"
      ],
      "metadata": {},
      "execution_count": null
    },
    {
      "cell_type": "markdown",
      "source": [
        "`choose_covariates` will randomly choose a `isPM` and an `Wt` between 55-80 kgs\n\nWe can make a list with covariates for ten subjects through a list comprehension"
      ],
      "metadata": {}
    },
    {
      "outputs": [],
      "cell_type": "code",
      "source": [
        "cvs = [ choose_covariates() for i in 1:10 ]\nDataFrame(cvs)"
      ],
      "metadata": {},
      "execution_count": null
    },
    {
      "cell_type": "markdown",
      "source": [
        "Now, we add these covariates to the population as below. The `map(f,xs)` will\nreturn the result of `f` on each element of `xs`. Let's map a function that\nbuild's a subject with the randomly chosen covariates in order to build a\npopulation:"
      ],
      "metadata": {}
    },
    {
      "outputs": [],
      "cell_type": "code",
      "source": [
        "pop_with_covariates = Population(map(i -> Subject(id=i,events=ev,covariates=choose_covariates()),1:10))"
      ],
      "metadata": {},
      "execution_count": null
    },
    {
      "cell_type": "markdown",
      "source": [
        "Simulate into the population"
      ],
      "metadata": {}
    },
    {
      "outputs": [],
      "cell_type": "code",
      "source": [
        "obs = simobs(model,pop_with_covariates,fixeffs,obstimes=0:0.1:120);"
      ],
      "metadata": {},
      "execution_count": null
    },
    {
      "cell_type": "markdown",
      "source": [
        "and visualize the output"
      ],
      "metadata": {}
    },
    {
      "outputs": [],
      "cell_type": "code",
      "source": [
        "plot(obs)"
      ],
      "metadata": {},
      "execution_count": null
    },
    {
      "cell_type": "markdown",
      "source": [
        "## Multiple dose example\n\nThe additional dosage regimen controls of the NMTRAN format are available\nin `DosageRegimen`. For example, `ii` defines the \"interdose interval\", or the\ntime distance between two doses, while `addl` defines how many additional times\nto repeat a dose. Thus, let's define a dose of 100 that's repeated 7 times\nat 24 hour intervals:"
      ],
      "metadata": {}
    },
    {
      "outputs": [],
      "cell_type": "code",
      "source": [
        "md =  DosageRegimen(100,ii=24,addl=6)"
      ],
      "metadata": {},
      "execution_count": null
    },
    {
      "cell_type": "markdown",
      "source": [
        "Let's create a new subject, `s3` with this dosage regimen:"
      ],
      "metadata": {}
    },
    {
      "outputs": [],
      "cell_type": "code",
      "source": [
        "s3 = Subject(id=3,events=md, covariates=(isPM=0,Wt=70))"
      ],
      "metadata": {},
      "execution_count": null
    },
    {
      "cell_type": "markdown",
      "source": [
        "and see the results:"
      ],
      "metadata": {}
    },
    {
      "outputs": [],
      "cell_type": "code",
      "source": [
        "obs = simobs(model, s3, fixeffs,obstimes=0:0.1:240)\nplot(obs)"
      ],
      "metadata": {},
      "execution_count": null
    },
    {
      "cell_type": "markdown",
      "source": [
        "## Combining dosage regimens\n\nWe can also combine dosage regimens to build a more complex regimen. Recall\nfrom the introduction that using arrays will build the element-wise combinations.\nThus let's build a dose of 500 into compartment 1 at time 0, and 7 doses into\ncompartment 1 of 100 spaced by 24 hours:"
      ],
      "metadata": {}
    },
    {
      "outputs": [],
      "cell_type": "code",
      "source": [
        "ldmd = DosageRegimen([500,100],cmt=1, time=[0,24], addl=[0,6],ii=[0,24])"
      ],
      "metadata": {},
      "execution_count": null
    },
    {
      "cell_type": "markdown",
      "source": [
        "Let's see if this result matches our intuition:"
      ],
      "metadata": {}
    },
    {
      "outputs": [],
      "cell_type": "code",
      "source": [
        "s4 = Subject(id=4, events=ldmd, covariates=(isPM=0,Wt=70))\nobs = simobs(model, s4, fixeffs,obstimes=0:0.1:120)\nplot(obs, ylims=(0,50))"
      ],
      "metadata": {},
      "execution_count": null
    },
    {
      "cell_type": "markdown",
      "source": [
        "Another way to build complex dosage regiments is to combine previously constructed\nregimens into a single regimen. For example:"
      ],
      "metadata": {}
    },
    {
      "outputs": [],
      "cell_type": "code",
      "source": [
        "e1 = DosageRegimen(500,cmt=1, time=0, addl=0,ii=0)\ne2 = DosageRegimen(100,cmt=1, time=24, addl=6,ii=24)\nevs = DosageRegimen(e1,e2)\nobs = simobs(model, s4, fixeffs,obstimes=0:0.1:120)\nplot(obs, ylims=(0,50))"
      ],
      "metadata": {},
      "execution_count": null
    },
    {
      "cell_type": "markdown",
      "source": [
        "is the same regimen as before.\n\nPutting these ideas together, we can define a population where individuals\nwith different covariates undergo different regimens, and simulate them\nall together with automatic parallelism:"
      ],
      "metadata": {}
    },
    {
      "outputs": [],
      "cell_type": "code",
      "source": [
        "e1 = DosageRegimen(100, ii=24, addl=6)\ne2 = DosageRegimen(50,  ii=12, addl=13)\ne3 = DosageRegimen(200, ii=24, addl=2)"
      ],
      "metadata": {},
      "execution_count": null
    },
    {
      "outputs": [],
      "cell_type": "code",
      "source": [
        "pop1 = Population(map(i -> Subject(id=i,events=e1,covariates=choose_covariates()),1:5))\npop2 = Population(map(i -> Subject(id=i,events=e2,covariates=choose_covariates()),6:8))\npop3 = Population(map(i -> Subject(id=i,events=e3,covariates=choose_covariates()),9:10))\npop = Population(vcat(pop1,pop2,pop3))"
      ],
      "metadata": {},
      "execution_count": null
    },
    {
      "outputs": [],
      "cell_type": "code",
      "source": [
        "obs = simobs(model,pop,fixeffs,obstimes=0:0.1:120)\nplot(obs)"
      ],
      "metadata": {},
      "execution_count": null
    },
    {
      "cell_type": "markdown",
      "source": [
        "## Defining Infusions\n\nAs specified in the NMTRAN format, an infusion is a dosage which is defined\nas having a non-zero positive rate at which the drug enters the system. Let's\ndefine a single infusion dose of total amount 100 with a rate of 3 into the\nsecond compartment:"
      ],
      "metadata": {}
    },
    {
      "outputs": [],
      "cell_type": "code",
      "source": [
        "inf = DosageRegimen(100, rate=3, cmt=2)"
      ],
      "metadata": {},
      "execution_count": null
    },
    {
      "cell_type": "markdown",
      "source": [
        "Now let's simulate a subject undergoing this treatment strategy:"
      ],
      "metadata": {}
    },
    {
      "outputs": [],
      "cell_type": "code",
      "source": [
        "s5 = Subject(id=5, events=inf, covariates=(isPM=0,Wt=70))\nobs = simobs(model, s5, fixeffs, obstimes=0:0.1:120)\nplot(obs)"
      ],
      "metadata": {},
      "execution_count": null
    },
    {
      "cell_type": "markdown",
      "source": [
        "## Final Note on Julia Programming\n\nNote that all of these functions are standard Julia functions, and thus standard\nJulia programming constructions can be utilized to simplify the construction of\nlarge populations. We already demonstrated the use of `map` and a comprehension,\nbut we can also make use of constructs like `for` loops.\n\n## Conclusion\n\nThis tutorial shows the tools for generating populations of infinite complexity,\ndefining covariates and dosage regimens on the fly and simulating the results\nof the model."
      ],
      "metadata": {}
    }
  ],
  "nbformat_minor": 2,
  "metadata": {
    "language_info": {
      "file_extension": ".jl",
      "mimetype": "application/julia",
      "name": "julia",
      "version": "1.5.0"
    },
    "kernelspec": {
      "name": "julia-1.5",
      "display_name": "Julia 1.5.0",
      "language": "julia"
    }
  },
  "nbformat": 4
}
