{
  "cells": [
    {
      "cell_type": "markdown",
      "source": [
        "# Introduction to Pumas\n### Chris Rackauckas\n### July 19, 2019\n# Introduction\n\nThis is an introduction to Pumas, a software for pharmacometric modeling and\nsimulation.\n\nThe basic workflow of Pumas is:\n\n1. Build a model.\n2. Define subjects or populations to simulate or estimate.\n3. Analyze the results with post-processing and plots.\n\nWe will show how to build a multiple-response PK/PD model\nvia the `@model` macro, define a subject with multiple doses, and analyze\nthe results of the simulation. This tutorial is made to be a broad overview\nof the workflow and more in-depth treatment of each section can be found in\nthe subsequent tutorials and documentation.\n\n## Installation\n\nTo install Pumas, first install [JuliaPro](https://juliacomputing.com/products/juliapro.html).\nThen use the command:"
      ],
      "metadata": {}
    },
    {
      "outputs": [],
      "cell_type": "code",
      "source": [
        "using Pkg\nPkg.add(\"Pumas\")"
      ],
      "metadata": {},
      "execution_count": null
    },
    {
      "cell_type": "markdown",
      "source": [
        "Doing it this way, Pumas and its dependencies will install automatically.\n\n## Getting Started\n\nTo load the package, use"
      ],
      "metadata": {}
    },
    {
      "outputs": [],
      "cell_type": "code",
      "source": [
        "using Pumas"
      ],
      "metadata": {},
      "execution_count": null
    },
    {
      "cell_type": "markdown",
      "source": [
        "## Using the Model Macro\n\nNow let's define a model. A model is defined in an `@model` block. Inside of\nthis block we have a few subsections. The first of which is `@param`. In here\nwe define what kind of parameters we have. For this model we will define a\nvector parameter `θ` of size 12:"
      ],
      "metadata": {}
    },
    {
      "outputs": [],
      "cell_type": "code",
      "source": [
        "@param begin\n  θ ∈ VectorDomain(12)\nend"
      ],
      "metadata": {},
      "execution_count": null
    },
    {
      "cell_type": "markdown",
      "source": [
        "Next we define our random effects. The random effects are defined by a distribution\nfrom Distributions.jl. For more information on defining distributions, please\nsee the Distributions.jl documentation. For this tutorial, we wish to have a\nmultivariate normal of 11 uncorrelated random effects, so we utilize the syntax:"
      ],
      "metadata": {}
    },
    {
      "outputs": [],
      "cell_type": "code",
      "source": [
        "using LinearAlgebra\n@random begin\n  η ~ MvNormal(Matrix{Float64}(I, 11, 11))\nend"
      ],
      "metadata": {},
      "execution_count": null
    },
    {
      "cell_type": "markdown",
      "source": [
        "Notice that here we imported `I` from LinearAlgebra and and said that our\nNormal distribution's covariance is said `I`, the identity matrix.\n\nNow we define our pre-processing step in `@pre`. This is where we choose how the\nparameters, random effects, and the covariates collate. We define the values and\ngive them a name as follows:"
      ],
      "metadata": {}
    },
    {
      "outputs": [],
      "cell_type": "code",
      "source": [
        "@pre begin\n    Ka1     = θ[1]\n    CL      = θ[2]*exp(η[1])\n    Vc      = θ[3]*exp(η[2])\n    Q       = θ[4]*exp(η[3])\n    Vp      = θ[5]*exp(η[4])\n    Kin     = θ[6]*exp(η[5])\n    Kout    = θ[7]*exp(η[6])\n    IC50    = θ[8]*exp(η[7])\n    IMAX    = θ[9]*exp(η[8])\n    γ       = θ[10]*exp(η[9])\n    Vmax    = θ[11]*exp(η[10])\n    Km      = θ[12]*exp(η[11])\n    Resp0   = θ[6]/θ[7]\nend"
      ],
      "metadata": {},
      "execution_count": null
    },
    {
      "cell_type": "markdown",
      "source": [
        "Next we define the `@init` block which gives the inital values for our\ndifferential equations. Any variable not mentioned in this block is assumed to\nhave a zero for its starting value. We wish to only set the starting value for\n`Resp`, and thus we use `Resp0` defined in the pre-block:"
      ],
      "metadata": {}
    },
    {
      "outputs": [],
      "cell_type": "code",
      "source": [
        "@init begin\n    Resp = Resp0\nend"
      ],
      "metadata": {},
      "execution_count": null
    },
    {
      "cell_type": "markdown",
      "source": [
        "Now we define our dynamics. We do this via the `@dynamics` block. Differential\nvariables are declared by having a line defining their derivative. For our model,\nwe use:"
      ],
      "metadata": {}
    },
    {
      "outputs": [],
      "cell_type": "code",
      "source": [
        "@dynamics begin\n    Ev1'    = -Ka1*Ev1\n    Cent'   =  Ka1*Ev1 - (CL+Vmax/(Km+(Cent/Vc))+Q)*(Cent/Vc)  + Q*(Periph/Vp)\n    Periph' =  Q*(Cent/Vc)  - Q*(Periph/Vp)\n    Resp'   =  Kin*(1-(IMAX*(Cent/Vc)^γ/(IC50^γ+(Cent/Vc)^γ)))  - Kout*Resp\nend"
      ],
      "metadata": {},
      "execution_count": null
    },
    {
      "cell_type": "markdown",
      "source": [
        "Lastly we utilize the `@derived` macro to define our post-processing. We can\noutput values using the following:"
      ],
      "metadata": {}
    },
    {
      "outputs": [],
      "cell_type": "code",
      "source": [
        "@derived begin\n    ev1    = Ev1\n    cp     = Cent / θ[3]\n    periph = Periph\n    resp   = Resp\nend"
      ],
      "metadata": {},
      "execution_count": null
    },
    {
      "cell_type": "markdown",
      "source": [
        "The `@model` block is all of these together, giving us the following model:"
      ],
      "metadata": {}
    },
    {
      "outputs": [],
      "cell_type": "code",
      "source": [
        "using LinearAlgebra\nmodel = @model begin\n\n    @param begin\n      θ ∈ VectorDomain(12)\n    end\n\n    @random begin\n      η ~ MvNormal(Matrix{Float64}(I, 11, 11))\n    end\n\n    @pre begin\n        Ka1     = θ[1]\n        CL      = θ[2]*exp(η[1])\n        Vc      = θ[3]*exp(η[2])\n        Q       = θ[4]*exp(η[3])\n        Vp      = θ[5]*exp(η[4])\n        Kin     = θ[6]*exp(η[5])\n        Kout    = θ[7]*exp(η[6])\n        IC50    = θ[8]*exp(η[7])\n        IMAX    = θ[9]*exp(η[8])\n        γ       = θ[10]*exp(η[9])\n        Vmax    = θ[11]*exp(η[10])\n        Km      = θ[12]*exp(η[11])\n        Resp0   = θ[6]/θ[7]\n    end\n\n    @init begin\n        Resp = Resp0\n    end\n\n    @dynamics begin\n        Ev1'    = -Ka1*Ev1\n        Cent'   =  Ka1*Ev1 - (CL+Vmax/(Km+(Cent/Vc))+Q)*(Cent/Vc)  + Q*(Periph/Vp)\n        Periph' =  Q*(Cent/Vc)  - Q*(Periph/Vp)\n        Resp'   =  Kin*(1-(IMAX*(Cent/Vc)^γ/(IC50^γ+(Cent/Vc)^γ)))  - Kout*Resp\n    end\n\n    @derived begin\n        ev1    = Ev1\n        cp     = Cent / θ[3]\n        periph = Periph\n        resp   = Resp\n    end\nend"
      ],
      "metadata": {},
      "execution_count": null
    },
    {
      "cell_type": "markdown",
      "source": [
        "## Building a Subject\n\nNow let's build a subject to simulate the model with. A subject defines three\ncomponents:\n\n1. The dosage regimen\n2. The covariates of the indvidual\n3. Observations associated with the individual.\n\nOur model did not make use of covariates so we will ignore (2) for now, and\n(3) is only necessary for fitting parameters to data which will not be covered\nin this tutorial. Thus our subject will be defined simply by its dosage regimen.\n\nTo do this, we use the `DosageRegimen` constructor. It uses terms from the\nNMTRAN format to specify its dose schedule. The first value is always the\ndosing amount. Then there are optional arguments, the most important of which\nis `time` which specifies the time that the dosing occurs. For example,"
      ],
      "metadata": {}
    },
    {
      "outputs": [],
      "cell_type": "code",
      "source": [
        "DosageRegimen(15, time=0)"
      ],
      "metadata": {},
      "execution_count": null
    },
    {
      "cell_type": "markdown",
      "source": [
        "is a dosage regimen which simply does a single dose at time `t=0` of amount 15.\nIf we use arrays, then the dosage regimen will be the grouping of the values.\nFor example, let's define a dose of amount 15 at times `t=0,4,8`, and `12`:"
      ],
      "metadata": {}
    },
    {
      "outputs": [],
      "cell_type": "code",
      "source": [
        "regimen = DosageRegimen([15,15,15,15], time=[0,4,8,12])"
      ],
      "metadata": {},
      "execution_count": null
    },
    {
      "cell_type": "markdown",
      "source": [
        "Let's define our subject to have `id=1` and this multiple dosing regimen:"
      ],
      "metadata": {}
    },
    {
      "outputs": [],
      "cell_type": "code",
      "source": [
        "subject = Subject(id=1,evs=regimen)"
      ],
      "metadata": {},
      "execution_count": null
    },
    {
      "cell_type": "markdown",
      "source": [
        "## Running a Simulation\n\nThe main function for running a simulation is `simobs`. `simobs` on a population\nsimulates all of the population (in parallel), while `simobs` on a subject\nsimulates just that subject. If we wish to change the parameters from the\ninitialized values, then we pass them in. Let's simulate subject 1 with a set\nof chosen parameters:"
      ],
      "metadata": {}
    },
    {
      "outputs": [],
      "cell_type": "code",
      "source": [
        "fixeffs = (θ = [\n          1, # Ka1  Absorption rate constant 1 (1/time)\n          1, # CL   Clearance (volume/time)\n          20, # Vc   Central volume (volume)\n          2, # Q    Inter-compartmental clearance (volume/time)\n          10, # Vp   Peripheral volume of distribution (volume)\n          10, # Kin  Response in rate constant (1/time)\n          2, # Kout Response out rate constant (1/time)\n          2, # IC50 Concentration for 50% of max inhibition (mass/volume)\n          1, # IMAX Maximum inhibition\n          1, # γ    Emax model sigmoidicity\n          0, # Vmax Maximum reaction velocity (mass/time)\n          2  # Km   Michaelis constant (mass/volume)\n          ],)\n\nsim = simobs(model, subject, fixeffs)"
      ],
      "metadata": {},
      "execution_count": null
    },
    {
      "cell_type": "markdown",
      "source": [
        "We can then plot the simulated observations by using the `plot` command:"
      ],
      "metadata": {}
    },
    {
      "outputs": [],
      "cell_type": "code",
      "source": [
        "using Plots\nplot(sim)"
      ],
      "metadata": {},
      "execution_count": null
    },
    {
      "cell_type": "markdown",
      "source": [
        "Note that we can use the [attributes from `Plots.jl`](http://docs.juliaplots.org/latest/attributes/)\nto further modify the plot. For example,"
      ],
      "metadata": {}
    },
    {
      "outputs": [],
      "cell_type": "code",
      "source": [
        "plot(sim,\n     color=2,thickness_scaling=1.5,\n     legend=false, lw=2)"
      ],
      "metadata": {},
      "execution_count": null
    },
    {
      "cell_type": "markdown",
      "source": [
        "Notice that in our model we said that there was a single parameter `θ` so our\ninput parameter is a named tuple with just the name `θ`. When we only give\nthe parameters, the random effects are automatically sampled from their\ndistributions. If we wish to prescribe a value for the random effects, we pass\ninitial values similarly:"
      ],
      "metadata": {}
    },
    {
      "outputs": [],
      "cell_type": "code",
      "source": [
        "randeffs = (η = rand(11),)\nsim = simobs(model, subject, fixeffs, randeffs)\nplot(sim)"
      ],
      "metadata": {},
      "execution_count": null
    },
    {
      "cell_type": "markdown",
      "source": [
        "The points which are saved are by default at once every hour until one day after\nthe last event. If you wish to change the saving time points, pass the keyword\nargument `obstimes`. For example, let's save at every `0.1` hours and run the\nsimulation for 19 hours:"
      ],
      "metadata": {}
    },
    {
      "outputs": [],
      "cell_type": "code",
      "source": [
        "sim = simobs(model, subject, fixeffs, randeffs, obstimes = 0:0.1:19)\nplot(sim)"
      ],
      "metadata": {},
      "execution_count": null
    },
    {
      "cell_type": "markdown",
      "source": [
        "## Handling the SimulatedObservations\n\nThe resulting `SimulatedObservations` type has two fields. `sim.times` is an\narray of time points for which the data was saved. `sim.derived` is the result\nof the derived variables. From there, the derived variabes are accessed by name.\nFor example,"
      ],
      "metadata": {}
    },
    {
      "outputs": [],
      "cell_type": "code",
      "source": [
        "sim[:cp]"
      ],
      "metadata": {},
      "execution_count": null
    },
    {
      "cell_type": "markdown",
      "source": [
        "is the array of `cp` values at the associated time points. We can turn this\ninto a DataFrame via using the `DataFrame` command:"
      ],
      "metadata": {}
    },
    {
      "outputs": [],
      "cell_type": "code",
      "source": [
        "df = DataFrame(sim)\nfirst(df,6) # Print only the first 6: the DataFrame is huge!"
      ],
      "metadata": {},
      "execution_count": null
    },
    {
      "cell_type": "markdown",
      "source": [
        "From there, any Julia tools can be used to analyze these arrays and DataFrames.\nFor example, if we wish the plot the result of `ev1` over time, we'd use the\nfollowing:"
      ],
      "metadata": {}
    },
    {
      "outputs": [],
      "cell_type": "code",
      "source": [
        "plot(sim.times,sim[:ev1])"
      ],
      "metadata": {},
      "execution_count": null
    },
    {
      "cell_type": "markdown",
      "source": [
        "Using these commands, a Julia program can be written to post-process the\nprogram however you like!\n\n## Conclusion\n\nThis tutorial covered basic workflow for how to build a model and simulate\nresults from it. The subsequent models will go into more detail in the components,\nsuch as:\n\n1. More detailed treatment of specifying populations, dosage regimens, and covariates.\n2. Reading in dosage regimens and observations from NMTRAN data."
      ],
      "metadata": {}
    },
    {
      "outputs": [],
      "cell_type": "code",
      "source": [
        "using PumasTutorials\nPumasTutorials.tutorial_footer(WEAVE_ARGS[:folder],WEAVE_ARGS[:file])"
      ],
      "metadata": {},
      "execution_count": null
    }
  ],
  "nbformat_minor": 2,
  "metadata": {
    "language_info": {
      "file_extension": ".jl",
      "mimetype": "application/julia",
      "name": "julia",
      "version": "1.3.1"
    },
    "kernelspec": {
      "name": "julia-1.3",
      "display_name": "Julia 1.3.1",
      "language": "julia"
    }
  },
  "nbformat": 4
}
