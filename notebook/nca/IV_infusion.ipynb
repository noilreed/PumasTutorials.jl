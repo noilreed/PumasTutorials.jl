{
  "cells": [
    {
      "outputs": [],
      "cell_type": "code",
      "source": [
        "using Pumas, LinearAlgebra, Plots, PumasTutorials"
      ],
      "metadata": {},
      "execution_count": null
    },
    {
      "cell_type": "markdown",
      "source": [
        "## Introduction\n\nIn this tutorial, we will cover the fundamentals of performing an NCA analysis\nwith Pumas after administration of an intravenous (IV) infusion dose. We will cover a single dose scenario.\n\nFor the purpose of this tutorial, data will be simulated using a Pumas model. Readers who are interested in\njust learning about the NCA can skip the next section on \"Data Simulation\"\n\n## Data Simulation\n\n(_You can safely skip this section if you are only interested in the NCA analysis and not data generation_)"
      ],
      "metadata": {}
    },
    {
      "outputs": [],
      "cell_type": "code",
      "source": [
        "using Random\nRandom.seed!(1)"
      ],
      "metadata": {},
      "execution_count": null
    },
    {
      "outputs": [],
      "cell_type": "code",
      "source": [
        "iv = @model begin\n  @param   begin\n    tvcl ∈ RealDomain(lower=0)\n    tvv ∈ RealDomain(lower=0)\n    dur ∈ RealDomain(lower=0)\n    Ω ∈ PDiagDomain(2)\n    σ_prop ∈ RealDomain(lower=0)\n  end\n\n  @random begin\n    η ~ MvNormal(Ω)\n  end\n\n  @pre begin\n    CL = tvcl * (Wt/70)^0.75 * exp(η[1])\n    Vc = tvv * (Wt/70) * exp(η[2])\n    duration = (Central = dur,)\n  end\n\n  @covariates Wt\n\n  @dynamics Central1\n\n  @derived begin\n      cp := @. (Central / Vc)\n      dv ~ @. Normal(cp, sqrt(cp^2*σ_prop))\n    end\nend\n\nparam = (\n  tvcl = 11.5,\n  tvv  = 50,\n  dur = 1.0,\n  Ω = Diagonal([0.04,0.04]),\n  σ_prop = 0.001\n  )\n\nchoose_covariates() = (wt = rand(55:80))"
      ],
      "metadata": {},
      "execution_count": null
    },
    {
      "cell_type": "markdown",
      "source": [
        "### Single dose simulation"
      ],
      "metadata": {}
    },
    {
      "outputs": [],
      "cell_type": "code",
      "source": [
        "sd = DosageRegimen(2000, time=0, rate=-2) # setup single dose regimen\nsd_population = map(i -> Subject(id=i, events=sd, covariates = (Wt = choose_covariates(),)), 1:24) # generate population\nsd_obstimes = [0, 0.25, 0.5, 0.75, 1, 2, 4, 8, 12, 16, 20, 22, 24] # sampling times\n\nobs = simobs(iv, sd_population, param, obstimes=sd_obstimes)\niv_sim_sd = DataFrame(obs)\nfilter!(t -> t.evid >= 0 || (t.time == 0 && t.evid == 0), iv_sim_sd)\ntransform!(iv_sim_sd, :id => (t -> 1) => :cmt)\ntransform!(iv_sim_sd, :id => (t -> 1) => :duration)\ntransform!(iv_sim_sd, :id => (t -> \"iv\") => :route)\ntransform!(iv_sim_sd, :id => (t -> 24) => :ii)"
      ],
      "metadata": {},
      "execution_count": null
    },
    {
      "cell_type": "markdown",
      "source": [
        "# Defining the population object"
      ],
      "metadata": {}
    },
    {
      "outputs": [],
      "cell_type": "code",
      "source": [
        "timeu = u\"hr\""
      ],
      "metadata": {},
      "execution_count": null
    },
    {
      "outputs": [],
      "cell_type": "code",
      "source": [
        "concu = u\"mg/L\""
      ],
      "metadata": {},
      "execution_count": null
    },
    {
      "outputs": [],
      "cell_type": "code",
      "source": [
        "amtu  = u\"mg\""
      ],
      "metadata": {},
      "execution_count": null
    },
    {
      "cell_type": "markdown",
      "source": [
        "In the case of the infusion, the `read_nca` function should\n\n* carry the name of the column that contains the duration of the infusion (`duration=`)."
      ],
      "metadata": {}
    },
    {
      "outputs": [],
      "cell_type": "code",
      "source": [
        "pop = read_nca(iv_sim_sd, id=:id, time=:time, conc=:dv, amt=:amt, ii=:ii,\n    route=:route, duration=:duration, timeu=timeu,\n    concu=concu, amtu=amtu, lloq=0.4concu)"
      ],
      "metadata": {},
      "execution_count": null
    },
    {
      "cell_type": "markdown",
      "source": [
        "Note that in the above syntanx:\n\n* `route=` is mapped to the `Formulation` column that should specify `iv`\n* LLOQ was set to 0.4 by `llq=0.4concu`\n\nA basic plot function exists for single dose data without grouping or multiple analytes.\nMore functionality will be added soon. In this example of single dose data, here is the plot output"
      ],
      "metadata": {}
    },
    {
      "outputs": [],
      "cell_type": "code",
      "source": [
        "plot(pop)"
      ],
      "metadata": {},
      "execution_count": null
    },
    {
      "cell_type": "markdown",
      "source": [
        "# NCA functions\n\n### `NCA.auc`"
      ],
      "metadata": {}
    },
    {
      "outputs": [],
      "cell_type": "code",
      "source": [
        "NCA.auc(pop, auctype=:last, method=:linear)"
      ],
      "metadata": {},
      "execution_count": null
    },
    {
      "cell_type": "markdown",
      "source": [
        "To change the methods to log-linear trapezoidal (`method=:linuplogdown`) or to linear-log (`method=:linlog`) one can use"
      ],
      "metadata": {}
    },
    {
      "outputs": [],
      "cell_type": "code",
      "source": [
        "NCA.auc(pop,auctype=:inf,method=:linuplogdown)"
      ],
      "metadata": {},
      "execution_count": null
    },
    {
      "cell_type": "markdown",
      "source": [
        "To compute the AUC over an interval, one could do"
      ],
      "metadata": {}
    },
    {
      "outputs": [],
      "cell_type": "code",
      "source": [
        "NCA.auc(pop, interval=(0,12).*timeu)"
      ],
      "metadata": {},
      "execution_count": null
    },
    {
      "cell_type": "markdown",
      "source": [
        "where we need to apply the time unit (`timeu`) to the `interval` for units compatibility. Multiple intervals can also be specified:"
      ],
      "metadata": {}
    },
    {
      "outputs": [],
      "cell_type": "code",
      "source": [
        "NCA.auc(pop, interval=[(0,12).*timeu,(0,6).*timeu])"
      ],
      "metadata": {},
      "execution_count": null
    },
    {
      "cell_type": "markdown",
      "source": [
        "### `NCA.lambdaz`\n\nThe function to calculate the terminal rate constant (λz) is:"
      ],
      "metadata": {}
    },
    {
      "outputs": [],
      "cell_type": "code",
      "source": [
        "NCA.lambdaz(pop)"
      ],
      "metadata": {},
      "execution_count": null
    },
    {
      "cell_type": "markdown",
      "source": [
        "This function has options that allow\n*  to specify the maximum number of points to be used for lambdaz - `threshold=3`\n* calculation to be peformed over specified indices - `idxs=[18,19,20]` where index 18,19,20 of the subject will be used for lambdaz\n* speification of exact time points to use for lambdaz - `slopetimes=[18.5,19,19.5].*timeu`"
      ],
      "metadata": {}
    },
    {
      "outputs": [],
      "cell_type": "code",
      "source": [
        "NCA.lambdaz(pop, threshold=3)\nNCA.lambdaz(pop, idxs=[18,19,20])\nNCA.lambdaz(pop, slopetimes=[18.5,19,19.5].*timeu)"
      ],
      "metadata": {},
      "execution_count": null
    },
    {
      "cell_type": "markdown",
      "source": [
        "### `NCA.cmax`\n\nTo calculate the maximum concentration for the first subject we would use:"
      ],
      "metadata": {}
    },
    {
      "outputs": [],
      "cell_type": "code",
      "source": [
        "cmax = NCA.cmax(pop[1])"
      ],
      "metadata": {},
      "execution_count": null
    },
    {
      "cell_type": "markdown",
      "source": [
        "### ` NCA.normalizedose`\n\nIf we want dose-normalized Cmax for that same subject:"
      ],
      "metadata": {}
    },
    {
      "outputs": [],
      "cell_type": "code",
      "source": [
        "NCA.normalizedose(cmax, pop[1])"
      ],
      "metadata": {},
      "execution_count": null
    },
    {
      "cell_type": "markdown",
      "source": [
        "This can be used on any parameter that can be dose normalized.\n\nOther functions to calculate single PK parameters are the following:"
      ],
      "metadata": {}
    },
    {
      "outputs": [],
      "cell_type": "code",
      "source": [
        "NCA.lambdazr2(pop)\nNCA.lambdazadjr2(pop)\nNCA.lambdazintercept(pop)\nNCA.lambdaztimefirst(pop)\nNCA.lambdaznpoints(pop)\n\nNCA.tmax(pop)\nNCA.cmin(pop)\nNCA.tmin(pop)\n\nNCA.tlast(pop)\nNCA.clast(pop)\n\nNCA.aumc(pop)\nNCA.aumclast(pop)\n\nNCA.thalf(pop)\n\nNCA.cl(pop)\n\nNCA.vss(pop)\nNCA.vz(pop)"
      ],
      "metadata": {},
      "execution_count": null
    },
    {
      "cell_type": "markdown",
      "source": [
        "# NCA report\n\nIf we want a complete report of the NCA analysis we can just use the function `NCAreport` to obtain a data frame that contains\nall the above mentioned pharmacokinetic parameters."
      ],
      "metadata": {}
    },
    {
      "outputs": [],
      "cell_type": "code",
      "source": [
        "report = NCAReport(pop)"
      ],
      "metadata": {},
      "execution_count": null
    },
    {
      "cell_type": "markdown",
      "source": [
        "By default, the AUC and AUMC reported are observed. If predicted PK parameters are needed instead, the following code should be used:"
      ],
      "metadata": {}
    },
    {
      "outputs": [],
      "cell_type": "code",
      "source": [
        "report = NCAReport(pop, pred=true)"
      ],
      "metadata": {},
      "execution_count": null
    },
    {
      "cell_type": "markdown",
      "source": [
        "Finally, we can save this data frame as a csv file if desired."
      ],
      "metadata": {}
    },
    {
      "outputs": [],
      "cell_type": "code",
      "source": [
        "CSV.write(\"./tutorials/nca/report_SD_IV_infusion.csv\", report)"
      ],
      "metadata": {},
      "execution_count": null
    }
  ],
  "nbformat_minor": 2,
  "metadata": {
    "language_info": {
      "file_extension": ".jl",
      "mimetype": "application/julia",
      "name": "julia",
      "version": "1.6.0"
    },
    "kernelspec": {
      "name": "julia-1.6",
      "display_name": "Julia 1.6.0",
      "language": "julia"
    }
  },
  "nbformat": 4
}
