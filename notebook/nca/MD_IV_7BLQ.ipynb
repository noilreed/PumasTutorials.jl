{
  "cells": [
    {
      "cell_type": "markdown",
      "source": [
        "# Pumas NCA Tutorial - Multiple dose IV administration\n### Beatriz Guglieri lopez\n### April 12, 2019"
      ],
      "metadata": {}
    },
    {
      "outputs": [],
      "cell_type": "code",
      "source": [
        "using Pumas, PumasTutorials, CSV"
      ],
      "metadata": {},
      "execution_count": null
    },
    {
      "cell_type": "markdown",
      "source": [
        "# Introduction\n\nIn this tutorial, we will cover the fundamentals of performing an NCA analysis\nwith Pumas of an example dataset in which multiple intravenous (IV) bolus doses were administered.\n\n# The dataset\n\n* Four IV bolus doses of 2000 mg were administered every 24 hours to 24 different subjects.\n* Samples were collected every 30 minutes.\n\nLet's start reading the dataset.\nBy using the `missingstring` option we are specifying how the missing values are labeled in our dataset."
      ],
      "metadata": {}
    },
    {
      "outputs": [],
      "cell_type": "code",
      "source": [
        "data = PumasTutorials.tutorial_data(\"data/nca\",\"multiple_dose_IVbolus_7BLQ_test\")\ndata = CSV.read(data,missingstring=\"NA\")\nfirst(data,10)"
      ],
      "metadata": {},
      "execution_count": null
    },
    {
      "cell_type": "markdown",
      "source": [
        "This will be an abbreviated tutorial as the main difference is in the specification of the `read_nca` function.\nFor a complete listing of all NCA options, please check the first tutorial on single oral dose administration\n\n# Defining the units"
      ],
      "metadata": {}
    },
    {
      "outputs": [],
      "cell_type": "code",
      "source": [
        "timeu = u\"hr\"\nconcu = u\"mg/L\"\namtu  = u\"mg\""
      ],
      "metadata": {},
      "execution_count": null
    },
    {
      "cell_type": "markdown",
      "source": [
        "# Defining the population object\n\nThe standard requirements of `read_nca` as specified in other tutorials exist. In this mulitple dose example, since subjects\nvisit in more than once occasion, we need to use an `occasion=` variable to speify the multiple dose nature."
      ],
      "metadata": {}
    },
    {
      "outputs": [],
      "cell_type": "code",
      "source": [
        "pop = read_nca(data, id=:ID, time=:time, conc=:DV, amt=:DOSE, ii=24timeu,\n    route=:Formulation, occasion=:OCC,timeu=timeu, concu=concu, amtu=amtu,llq=0.4concu)"
      ],
      "metadata": {},
      "execution_count": null
    },
    {
      "cell_type": "markdown",
      "source": [
        "Key features of the syntax above:\n\n* `route=` is mapped to the `Formulation` column that should specify `ev`\n* LLOQ was set to 0.4 by `llq=0.4concu`\n* `occasion=:OCC` provides a way to specify multiple dosing\n\nTo check how occasion works, lets calculate the AUC"
      ],
      "metadata": {}
    },
    {
      "outputs": [],
      "cell_type": "code",
      "source": [
        "NCA.auc(pop,auctype=:last,method=:linear)"
      ],
      "metadata": {},
      "execution_count": null
    },
    {
      "cell_type": "markdown",
      "source": [
        "All other NCA function work on this grouped variable. Let's directly print the NCA report."
      ],
      "metadata": {}
    },
    {
      "outputs": [],
      "cell_type": "code",
      "source": [
        "report = NCAReport(pop)\nreport = NCA.to_dataframe(report)"
      ],
      "metadata": {},
      "execution_count": null
    },
    {
      "cell_type": "markdown",
      "source": [
        "Below is a listing of all the NCA parameters in the report"
      ],
      "metadata": {}
    },
    {
      "outputs": [],
      "cell_type": "code",
      "source": [
        "names(report)"
      ],
      "metadata": {},
      "execution_count": null
    },
    {
      "cell_type": "markdown",
      "source": [
        "Finally, we can save this data frame as a csv file if desired."
      ],
      "metadata": {}
    },
    {
      "outputs": [],
      "cell_type": "code",
      "source": [
        "CSV.write(\"./tutorials/nca/report_MD_IVbolus_7BLQ.csv\", report)"
      ],
      "metadata": {},
      "execution_count": null
    }
  ],
  "nbformat_minor": 2,
  "metadata": {
    "language_info": {
      "file_extension": ".jl",
      "mimetype": "application/julia",
      "name": "julia",
      "version": "1.1.1"
    },
    "kernelspec": {
      "name": "julia-1.1",
      "display_name": "Julia 1.1.1",
      "language": "julia"
    }
  },
  "nbformat": 4
}
