{
  "cells": [
    {
      "cell_type": "markdown",
      "source": [
        "# Pumas NCA Tutorial - Analyzing infusion data\n### Beatriz Guglieri Lopez, Shamir Kalaria, Vijay Ivaturi\n### July 19, 2019"
      ],
      "metadata": {}
    },
    {
      "outputs": [],
      "cell_type": "code",
      "source": [
        "using Pumas, PumasTutorials, CSV, Plots"
      ],
      "metadata": {},
      "execution_count": null
    },
    {
      "cell_type": "markdown",
      "source": [
        "# Introduction\n\nIn this tutorial, we will cover the fundamentals of performing an NCA analysis\nwith Pumas using an example dataset in which an intravenous infusion was administered.\n\n# The dataset\n\n* Single 2000 mg 2-hour IV infusion dose to 24 subjects\n* Blood samples for pharmacokinetic analysis were collected every 30 minutes"
      ],
      "metadata": {}
    },
    {
      "outputs": [],
      "cell_type": "code",
      "source": [
        "data = PumasTutorials.tutorial_data(\"data/nca\",\"SD_IV_infusion\")\ndata = CSV.read(data,missingstring=\"NA\")\nfirst(data,10)"
      ],
      "metadata": {},
      "execution_count": null
    },
    {
      "cell_type": "markdown",
      "source": [
        "Please, note that the `DOSE` and the `Infusion_Time` column must only contain a value at the time the dose was administered.\n\n# Defining the units"
      ],
      "metadata": {}
    },
    {
      "outputs": [],
      "cell_type": "code",
      "source": [
        "timeu = u\"hr\"\nconcu = u\"mg/L\"\namtu  = u\"mg\""
      ],
      "metadata": {},
      "execution_count": null
    },
    {
      "cell_type": "markdown",
      "source": [
        "# Defining the population object\n\nIn the case of the infusion, the `read_nca` function should\n\n* carry the name of the column that contains the duration of the infusion (`duration=`)."
      ],
      "metadata": {}
    },
    {
      "outputs": [],
      "cell_type": "code",
      "source": [
        "pop = read_nca(data, id=:ID, time=:time, conc=:DV, amt=:DOSE, ii=24timeu,\n    route=:Formulation, duration=:Infusion_Time,timeu=timeu,\n    concu=concu, amtu=amtu,lloq=0.4concu)"
      ],
      "metadata": {},
      "execution_count": null
    },
    {
      "cell_type": "markdown",
      "source": [
        "Note that in the above syntanx:\n\n* `route=` is mapped to the `Formulation` column that should specify `iv`\n* LLOQ was set to 0.4 by `llq=0.4concu`\n\nA basic plot function exists for single dose data without grouping or multiple analytes.\nMore functionality will be added soon. In this example of single dose data, here is the plot output"
      ],
      "metadata": {}
    },
    {
      "outputs": [],
      "cell_type": "code",
      "source": [
        "plot(pop)"
      ],
      "metadata": {},
      "execution_count": null
    },
    {
      "cell_type": "markdown",
      "source": [
        "# NCA functions\n\n### `NCA.auc`"
      ],
      "metadata": {}
    },
    {
      "outputs": [],
      "cell_type": "code",
      "source": [
        "NCA.auc(pop,auctype=:last,method=:linear)"
      ],
      "metadata": {},
      "execution_count": null
    },
    {
      "cell_type": "markdown",
      "source": [
        "To change the methods to log-linear trapezoidal (`method=:linuplogdown`) or to linear-log (`method=:linlog`) one can use"
      ],
      "metadata": {}
    },
    {
      "outputs": [],
      "cell_type": "code",
      "source": [
        "NCA.auc(pop,auctype=:inf,method=:linuplogdown)"
      ],
      "metadata": {},
      "execution_count": null
    },
    {
      "cell_type": "markdown",
      "source": [
        "To compute the AUC over an interval, one could do"
      ],
      "metadata": {}
    },
    {
      "outputs": [],
      "cell_type": "code",
      "source": [
        "NCA.auc(pop, interval=(0,12).*timeu)"
      ],
      "metadata": {},
      "execution_count": null
    },
    {
      "cell_type": "markdown",
      "source": [
        "where we need to apply the time unit (`timeu`) to the `interval` for units compatibility. Multiple intervals can also be specified:"
      ],
      "metadata": {}
    },
    {
      "outputs": [],
      "cell_type": "code",
      "source": [
        "NCA.auc(pop, interval=[(0,12).*timeu,(0,6).*timeu])"
      ],
      "metadata": {},
      "execution_count": null
    },
    {
      "cell_type": "markdown",
      "source": [
        "### `NCA.lambdaz`\n\nThe function to calculate the terminal rate constant (λz) is:"
      ],
      "metadata": {}
    },
    {
      "outputs": [],
      "cell_type": "code",
      "source": [
        "NCA.lambdaz(pop)"
      ],
      "metadata": {},
      "execution_count": null
    },
    {
      "cell_type": "markdown",
      "source": [
        "This function has options that allow\n*  to specify the maximum number of points to be used for lambdaz - `threshold=3`\n* calculation to be peformed over specified indices - `idxs=[18,19,20]` where index 18,19,20 of the subject will be used for lambdaz\n* speification of exact time points to use for lambdaz - `slopetimes=[18.5,19,19.5].*timeu`"
      ],
      "metadata": {}
    },
    {
      "outputs": [],
      "cell_type": "code",
      "source": [
        "NCA.lambdaz(pop, threshold=3)\nNCA.lambdaz(pop, idxs=[18,19,20])\nNCA.lambdaz(pop, slopetimes=[18.5,19,19.5].*timeu)"
      ],
      "metadata": {},
      "execution_count": null
    },
    {
      "cell_type": "markdown",
      "source": [
        "### `NCA.cmax`\n\nTo calculate the maximum concentration for the first subject we would use:"
      ],
      "metadata": {}
    },
    {
      "outputs": [],
      "cell_type": "code",
      "source": [
        "cmax = NCA.cmax(pop[1])"
      ],
      "metadata": {},
      "execution_count": null
    },
    {
      "cell_type": "markdown",
      "source": [
        "### ` NCA.normalizedose`\n\nIf we want dose-normalized Cmax for that same subject:"
      ],
      "metadata": {}
    },
    {
      "outputs": [],
      "cell_type": "code",
      "source": [
        "NCA.normalizedose(cmax,pop[1])"
      ],
      "metadata": {},
      "execution_count": null
    },
    {
      "cell_type": "markdown",
      "source": [
        "This can be used on any parameter that can be dose normalized.\n\nOther functions to calculate single PK parameters are the following:"
      ],
      "metadata": {}
    },
    {
      "outputs": [],
      "cell_type": "code",
      "source": [
        "NCA.lambdazr2(pop)\nNCA.lambdazadjr2(pop)\nNCA.lambdazintercept(pop)\nNCA.lambdaztimefirst(pop)\nNCA.lambdaznpoints(pop)\n\nNCA.tmax(pop)\nNCA.cmin(pop)\nNCA.tmin(pop)\n\nNCA.tlast(pop)\nNCA.clast(pop)\n\nNCA.aumc(pop)\nNCA.aumclast(pop)\n\nNCA.thalf(pop)\n\nNCA.cl(pop)\n\nNCA.vss(pop)\nNCA.vz(pop)"
      ],
      "metadata": {},
      "execution_count": null
    },
    {
      "cell_type": "markdown",
      "source": [
        "# NCA report\n\nIf we want a complete report of the NCA analysis we can just use the function `NCAreport` to obtain a data frame that contains\nall the above mentioned pharmacokinetic parameters."
      ],
      "metadata": {}
    },
    {
      "outputs": [],
      "cell_type": "code",
      "source": [
        "report = NCAReport(pop)\nreport = NCA.to_dataframe(report)"
      ],
      "metadata": {},
      "execution_count": null
    },
    {
      "cell_type": "markdown",
      "source": [
        "By default, the AUC and AUMC reported are observed. If predicted PK parameters are needed instead, the following code should be used:"
      ],
      "metadata": {}
    },
    {
      "outputs": [],
      "cell_type": "code",
      "source": [
        "report = NCAReport(pop,pred=true)\nreport = NCA.to_dataframe(report)"
      ],
      "metadata": {},
      "execution_count": null
    },
    {
      "cell_type": "markdown",
      "source": [
        "Finally, we can save this data frame as a csv file if desired."
      ],
      "metadata": {}
    },
    {
      "outputs": [],
      "cell_type": "code",
      "source": [
        "CSV.write(\"./tutorials/nca/report_SD_IV_infusion.csv\", report)"
      ],
      "metadata": {},
      "execution_count": null
    },
    {
      "outputs": [],
      "cell_type": "code",
      "source": [
        "using PumasTutorials\nPumasTutorials.tutorial_footer(WEAVE_ARGS[:folder],WEAVE_ARGS[:file])"
      ],
      "metadata": {},
      "execution_count": null
    }
  ],
  "nbformat_minor": 2,
  "metadata": {
    "language_info": {
      "file_extension": ".jl",
      "mimetype": "application/julia",
      "name": "julia",
      "version": "1.1.1"
    },
    "kernelspec": {
      "name": "julia-1.1",
      "display_name": "Julia 1.1.1",
      "language": "julia"
    }
  },
  "nbformat": 4
}
