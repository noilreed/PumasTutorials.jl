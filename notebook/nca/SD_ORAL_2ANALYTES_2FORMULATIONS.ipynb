{
  "cells": [
    {
      "cell_type": "markdown",
      "source": [
        "# Pumas NCA Tutorial - Single dose ORAL administration 2 formulations and 2 analytes\n### Beatriz Guglieri Lopez, Shamir Kalaria, Vijay Ivaturi\n### July 19, 2019"
      ],
      "metadata": {}
    },
    {
      "outputs": [],
      "cell_type": "code",
      "source": [
        "using Pumas, PumasTutorials, CSV"
      ],
      "metadata": {},
      "execution_count": null
    },
    {
      "cell_type": "markdown",
      "source": [
        "# Introduction\n\nIn this tutorial, we will cover the fundamentals of performing an NCA analysis\nwith Pumas using an example dataset in which a single oral dose of a capsule formulation and a single oral dose of\nan oral solution were administered and the concentration of two analytes (parent and metabolite) was measured.\n\n# The dataset\n\n* Single oral dose of a capsule containing 2000 mg was administered to 24 different subjects.\n* Washout period\n* Single oral dose of an oral solution containing 2000 mg was administered to the same subjects.\n* Samples were collected every 30 minutes.\n\nLet's start reading the dataset. By using the `missingstring` option we are specifying how the\nmissing values are labeled in our dataset."
      ],
      "metadata": {}
    },
    {
      "outputs": [],
      "cell_type": "code",
      "source": [
        "data = PumasTutorials.tutorial_data(\"data/nca\",\"SD_oral_2analytes_2formulations\")\ndata = CSV.read(data,missingstring=\"NA\")\nfirst(data,10)"
      ],
      "metadata": {},
      "execution_count": null
    },
    {
      "cell_type": "markdown",
      "source": [
        "This will be an abbreviated tutorial as the main difference is in the specification of the `read_nca` function.\nFor a complete listing of all NCA options, please check the first tutorial on single oral dose administration\n\n# Defining the units"
      ],
      "metadata": {}
    },
    {
      "outputs": [],
      "cell_type": "code",
      "source": [
        "timeu = u\"hr\"\nconcu = u\"mg/L\"\namtu  = u\"mg\""
      ],
      "metadata": {},
      "execution_count": null
    },
    {
      "cell_type": "markdown",
      "source": [
        "# Defining the population object\n\nThe standard requirements of `read_nca` as specified in other tutorials exist. In this example since two different formulations were administered and parent and metabolite concentrations were measured,\nwe need to specify the grouping variable so that the PK parameters are calculated for each formulation and each analyte\n (`group=`)."
      ],
      "metadata": {}
    },
    {
      "outputs": [],
      "cell_type": "code",
      "source": [
        "pop = read_nca(data, id=:ID, time=:time, conc=:DV, amt=:DOSE, ii=24timeu, group=[:Type,:Analyte],\n     route=:Formulation, timeu=timeu, concu=concu, amtu=amtu,lloq=0.4concu)"
      ],
      "metadata": {},
      "execution_count": null
    },
    {
      "cell_type": "markdown",
      "source": [
        "Key features of the syntax above:\n\n* `route=` is mapped to the `Formulation` column that should specify `ev`\n* LLOQ was set to 0.4 by `llq=0.4concu`\n* `group=[:Type,:Analyte]` provides a way to peform NCA on two different analytes and formulations at the same time\n\nTo check if the grouping works, lets calculate the AUC"
      ],
      "metadata": {}
    },
    {
      "outputs": [],
      "cell_type": "code",
      "source": [
        "NCA.auc(pop,auctype=:last,method=:linear)"
      ],
      "metadata": {},
      "execution_count": null
    },
    {
      "cell_type": "markdown",
      "source": [
        "All other NCA function work on this grouped variable. Let's directly print the NCA report."
      ],
      "metadata": {}
    },
    {
      "outputs": [],
      "cell_type": "code",
      "source": [
        "report = NCAReport(pop)\nreport = NCA.to_dataframe(report)"
      ],
      "metadata": {},
      "execution_count": null
    },
    {
      "cell_type": "markdown",
      "source": [
        "Finally, we can save this data frame as a csv file if desired."
      ],
      "metadata": {}
    },
    {
      "outputs": [],
      "cell_type": "code",
      "source": [
        "CSV.write(\"./tutorials/nca/report_SD_oral_2analytes_2formulations.csv\", report)"
      ],
      "metadata": {},
      "execution_count": null
    },
    {
      "outputs": [],
      "cell_type": "code",
      "source": [
        "using PumasTutorials\nPumasTutorials.tutorial_footer(WEAVE_ARGS[:folder],WEAVE_ARGS[:file])"
      ],
      "metadata": {},
      "execution_count": null
    }
  ],
  "nbformat_minor": 2,
  "metadata": {
    "language_info": {
      "file_extension": ".jl",
      "mimetype": "application/julia",
      "name": "julia",
      "version": "1.1.1"
    },
    "kernelspec": {
      "name": "julia-1.1",
      "display_name": "Julia 1.1.1",
      "language": "julia"
    }
  },
  "nbformat": 4
}
