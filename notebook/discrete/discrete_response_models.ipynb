{
  "cells": [
    {
      "cell_type": "markdown",
      "source": [
        "# Discrete Response Models\n### Vijay Ivaturi, Chris Rackauckas\n### July 19th, 2019\n# Introduction\n\nIn this tutorial we will go over the simulation of discrete responses. Many\npharmacometrics scenarios have observables, such as pain scores or counts,\nwhich necessarily have to be discrete. Handling this discreteness can be\nparamount to getting an appropriate data fit and to properly understand the\nvariation.\n\nLuckily, in Pumas, discrete outputs are handled no differently from the rest\nof the Pumas toolchain. In Pumas, to have a discrete distribution as output,\nsimply have that your `derived` or `observed` variables come from a discrete\ndistribution like a `Poisson` process.\n\n## Binary Response Example\n\nFirst, let's take a look at a binary response. A binary response is a model\nwhich gives an output of 0 or 1 with a probability `p`. In Pumas, this is\nrepresented by a `Bernoulli(p)` distribution.\n\nTo get started, first let's load `Pumas` and read in some example data:"
      ],
      "metadata": {}
    },
    {
      "outputs": [],
      "cell_type": "code",
      "source": [
        "using Pumas, StatsFuns\ndata = read_pumas(example_nmtran_data(\"pain_remed\"),\n    cvs = [:arm, :dose, :conc, :painord,:remed],event_data=false)"
      ],
      "metadata": {},
      "execution_count": null
    },
    {
      "cell_type": "markdown",
      "source": [
        "Next let's implement a model with a binary response. Here, we do not have an\n`@dynamics` porition. Pumas will automatically handle this. In our `derived`,\nwe define a `logistic` from [StatsFuns](https://github.com/JuliaStats/StatsFuns.jl#basic-functions)"
      ],
      "metadata": {}
    },
    {
      "outputs": [],
      "cell_type": "code",
      "source": [
        "import StatsFuns.logistic\nbinary_model = @model begin\n    @param begin\n        intercept ∈ RealDomain(init=0.001)\n        tvslope ∈ RealDomain(init=0.0001)\n        Ω ∈ VectorDomain(1)\n    end\n\n    @random begin\n        η ~ MvNormal(Ω)\n    end\n\n    @covariates arm dose\n\n    @pre begin\n        rx = dose > 0 ? 1 : 0\n        slope = tvslope*rx\n        logit = intercept + slope + η[1]\n    end\n\n    @derived begin\n        pain = logistic(logit)\n        dv ~ Bernoulli(logistic(logit))\n    end\nend"
      ],
      "metadata": {},
      "execution_count": null
    },
    {
      "cell_type": "markdown",
      "source": [
        "Note that we could have alternatively defined our `@pre` like:"
      ],
      "metadata": {}
    },
    {
      "outputs": [],
      "cell_type": "code",
      "source": [
        "@pre begin\n    logit = intercept + tvslope*(dose > 0 ? 1 : 0) + η[1]\n    logit = intercept + tvslope*Int(dose > 0) + η[1]\nend"
      ],
      "metadata": {},
      "execution_count": null
    },
    {
      "cell_type": "markdown",
      "source": [
        "more directly instead of using `logistic`.\n\nNow let's fit our model to the data:"
      ],
      "metadata": {}
    },
    {
      "outputs": [],
      "cell_type": "code",
      "source": [
        "param = (\n    intercept = 0.001,\n    tvslope = 0.0001,\n    Ω = [1.0]\n    )\nres = fit(binary_model,data,param,Pumas.LaplaceI())"
      ],
      "metadata": {},
      "execution_count": null
    },
    {
      "cell_type": "markdown",
      "source": [
        "and simulate some outputs:"
      ],
      "metadata": {}
    },
    {
      "outputs": [],
      "cell_type": "code",
      "source": [
        "sim = simobs(binary_model,data,res.param)\nsimdf = DataFrame(sim, include_events=false)\nfirst(simdf,6) # Print only the first 6 rows"
      ],
      "metadata": {},
      "execution_count": null
    },
    {
      "cell_type": "markdown",
      "source": [
        "Note that now our simulation output for `dv` is true/false values pulled with\nprobability given by `logit` dependent on the individual's random effects.\n\n## Poisson Response Example\n\nNext let's use a `Poisson` counting process in our model. Here we generate a\npopulation where everyone is receiving the same doses as a covariate."
      ],
      "metadata": {}
    },
    {
      "outputs": [],
      "cell_type": "code",
      "source": [
        "pop = Population(map(i -> Subject(id=i,cvs=(dose = i.*10,),time=[0.0]),1:10))"
      ],
      "metadata": {},
      "execution_count": null
    },
    {
      "cell_type": "markdown",
      "source": [
        "Now we define our model without dynamics, and directly use the dose information\nto predict the count for some observable `dv`:"
      ],
      "metadata": {}
    },
    {
      "outputs": [],
      "cell_type": "code",
      "source": [
        "poisson_model = @model begin\n  @param begin\n    tvbase ∈ RealDomain(init=3.0, lower=0.1)\n    d50 ∈ RealDomain(init=50, lower=0.1)\n    Ω  ∈ PSDDomain(fill(0.1, 1, 1))\n  end\n\n  @random begin\n    η ~ MvNormal(Ω)\n  end\n\n  @pre begin\n    baseline = tvbase*exp(η[1])\n  end\n\n  @covariates dose\n\n  @derived begin\n    dv ~ @. Poisson(baseline*(1-dose/(dose + d50)))\n  end\nend"
      ],
      "metadata": {},
      "execution_count": null
    },
    {
      "cell_type": "markdown",
      "source": [
        "and simulate runs from the model:"
      ],
      "metadata": {}
    },
    {
      "outputs": [],
      "cell_type": "code",
      "source": [
        "sim = simobs(poisson_model,pop)\nsimdf = DataFrame(sim, include_events=false)"
      ],
      "metadata": {},
      "execution_count": null
    },
    {
      "cell_type": "markdown",
      "source": [
        "Here `dv` is an integer output probabilistically dependent on the dose."
      ],
      "metadata": {}
    },
    {
      "outputs": [],
      "cell_type": "code",
      "source": [
        "using PumasTutorials\nPumasTutorials.tutorial_footer(WEAVE_ARGS[:folder],WEAVE_ARGS[:file])"
      ],
      "metadata": {},
      "execution_count": null
    }
  ],
  "nbformat_minor": 2,
  "metadata": {
    "language_info": {
      "file_extension": ".jl",
      "mimetype": "application/julia",
      "name": "julia",
      "version": "1.1.1"
    },
    "kernelspec": {
      "name": "julia-1.1",
      "display_name": "Julia 1.1.1",
      "language": "julia"
    }
  },
  "nbformat": 4
}
