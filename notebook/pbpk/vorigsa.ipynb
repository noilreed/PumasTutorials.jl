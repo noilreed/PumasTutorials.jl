{
  "cells": [
    {
      "outputs": [],
      "cell_type": "code",
      "source": [
        "using Pumas, Plots"
      ],
      "metadata": {},
      "execution_count": null
    },
    {
      "cell_type": "markdown",
      "source": [
        "## Introduction\n\nIn this tutorial, we will cover running global sensitivity analysis on the Voriconazole model published here https://github.com/metrumresearchgroup/Voriconazole-PBPK/\n\n### Model Code"
      ],
      "metadata": {}
    },
    {
      "outputs": [],
      "cell_type": "code",
      "source": [
        "model = @model begin\n    @param begin\n        Fup ∈ RealDomain(init = 0.42)\n        fumic ∈ RealDomain(init = 0.711)\n        WEIGHT ∈ RealDomain(init = 73)\n        MPPGL ∈ RealDomain(init = 30.3)\n        MPPGI ∈ RealDomain(init = 0)\n        C_OUTPUT ∈ RealDomain(init = 6.5)\n        VmaxH ∈ RealDomain(init = 40)\n        VmaxG ∈ RealDomain(init = 40)\n        KmH ∈ RealDomain(init = 9.3)\n        KmG ∈ RealDomain(init = 9.3)\n        bp ∈ RealDomain(init = 1)\n        kpad ∈ RealDomain(init = 9.89)\n        kpbo ∈ RealDomain(init = 7.91)\n        kpbr ∈ RealDomain(init = 7.35)\n        kpgu ∈ RealDomain(init = 5.82)\n        kphe ∈ RealDomain(init = 1.95)\n        kpki ∈ RealDomain(init = 2.9)\n        kpli ∈ RealDomain(init = 4.66)\n        kplu ∈ RealDomain(init = 0.83)\n        kpmu ∈ RealDomain(init = 2.94)\n        kpsp ∈ RealDomain(init = 2.96)\n        kpre ∈ RealDomain(init = 4)\n        MW ∈ RealDomain(init = 349.317)\n        logP ∈ RealDomain(init = 2.56)\n        s_lumen ∈ RealDomain(init = 0.39*1000)\n        L ∈ RealDomain(init = 280)\n        d ∈ RealDomain(init = 2.5)\n        PF ∈ RealDomain(init = 1.57)\n        VF ∈ RealDomain(init = 6.5)\n        MF ∈ RealDomain(init = 13)\n        ITT ∈ RealDomain(init = 3.32)\n        A ∈ RealDomain(init = 7440)\n        B ∈ RealDomain(init = 1e7)\n        alpha ∈ RealDomain(init = 0.6)\n        beta ∈ RealDomain(init = 4.395)\n        fabs ∈ RealDomain(init = 1)\n        fdis ∈ RealDomain(init = 1)\n        fperm ∈ RealDomain(init = 1)\n        vad ∈ RealDomain(init = 18.2)\n        vbo ∈ RealDomain(init =10.5)\n        vbr ∈ RealDomain(init =1.45)\n        vguWall ∈ RealDomain(init =0.65)\n        vgulumen ∈ RealDomain(init =0.35)\n        vhe ∈ RealDomain(init =0.33)\n        vki ∈ RealDomain(init =0.31)\n        vli ∈ RealDomain(init =1.8)\n        vlu ∈ RealDomain(init =0.5)\n        vmu ∈ RealDomain(init =29)\n        vsp ∈ RealDomain(init =0.15)\n        vbl ∈ RealDomain(init =5.6)\n        FQad ∈ RealDomain(lower = 0.0, init = 0.05, upper = 1.0) #add bounds to parameters for estimation\n        FQbo ∈ RealDomain(lower = 0.0, init = 0.05, upper = 1.0)\n        FQbr ∈ RealDomain(lower = 0.0, init = 0.12, upper = 1.0)\n        FQgu ∈ RealDomain(lower = 0.0, init = 0.16, upper = 1.0)\n        FQhe ∈ RealDomain(lower = 0.0, init = 0.04, upper = 1.0)\n        FQki ∈ RealDomain(lower = 0.0, init = 0.19, upper = 1.0)\n        FQli ∈ RealDomain(lower = 0.0, init = 0.255, upper = 1.0)\n        FQmu ∈ RealDomain(lower = 0.0, init = 0.17, upper = 1.0)\n        FQsp ∈ RealDomain(lower = 0.0, init = 0.03, upper = 1.0)\n    end\n    @pre begin\n        Vgu = vguWall + vgulumen\n        Vve = 0.705*vbl\n        Var = 0.295*vbl\n        Vre = WEIGHT - (vli+vki+vsp+vhe+vlu+vbo+vbr+vmu+vad+vguWall+vbl)\n        CO = C_OUTPUT*60\n        Qad = FQad*CO\n        Qbo = FQbo*CO\n        Qbr = FQbr*CO\n        Qgu = FQgu*CO\n        Qhe = FQhe*CO\n        Qki = FQki*CO\n        Qli = FQli*CO\n        Qmu = FQmu*CO\n        Qsp = FQsp*CO\n        Qha = Qli - (Qgu+Qsp)\n        Qtot = Qli+Qki+Qbo+Qhe+Qmu+Qad+Qbr\n        Qre = CO - Qtot\n        Qlu = CO\n        Vgulumen = vgulumen\n        S_lumen = s_lumen\n        VguWall = vguWall\n        Kpgu = kpgu\n        BP = bp\n        Vad = vad\n        Kpad = kpad\n        Vbr = vbr\n        Kpbr = kpbr\n        Vhe = vhe\n        Kphe = kphe\n        Vki = vki\n        Kpki = kpki\n        fup = Fup\n        Vsp = vsp\n        Kpsp = kpsp\n        Vli = vli\n        Kpli = kpli\n        Vlu = vlu\n        Kplu = kplu\n        Kpmu = kpmu\n        Kpre = kpre\n        Vmu = vmu\n        Vbl = vbl\n        Vbo = vbo\n        Kpbo = kpbo\n        SA_abs = pi*L*d*PF*VF*MF*1e-4\n        SA_basal = pi*L*d*PF*VF*1e-4\n        MA = 10^logP\n        MW_eff = MW - (3*17)\n        Peff = fperm*A*(((MW_eff^(-alpha-beta))*MA)/((MW_eff^(-alpha)) + B*(MW_eff^(-beta))*MA) * 1e-2 * 3600)\n        kd = fdis*Peff*SA_abs*1000/vgulumen\n        ka = fabs*Peff*SA_basal*1000/VguWall\n        kt = 1/ITT\n        scale_factor_H = MPPGL*Vli*1000\n        scale_factor_G = MPPGI*VguWall*1000\n        CLintHep = ((VmaxH/KmH)*scale_factor_H*60*1e-6)/fumic\n        CLintGut = ((VmaxG/KmG)*scale_factor_G*60*1e-6)/fumic\n        #CLintHep = CLintHep/fumic\n        #CLintGut = CLintGut/fumic\n        CLrenal = 0.096\n        f = 1\n    end\n    @dynamics begin\n        GUTLUMEN' = -kd*Vgulumen*(f*(GUTLUMEN/Vgulumen) + (1-f)*S_lumen) -\n            kt*GUTLUMEN\n        GUTWALL' = kd*Vgulumen*(f*(GUTLUMEN/Vgulumen) + (1-f)*S_lumen) -\n            ka*GUTWALL - CLintGut*(GUTWALL/VguWall)\n        GUT' = ka*GUTWALL + Qgu*((ART/Var) - (GUT/VguWall)/(Kpgu/BP))\n        ADIPOSE' = Qad*((ART/Var) - (ADIPOSE/Vad)/(Kpad/BP))\n        BRAIN' = Qbr*((ART/Var) - (BRAIN/Vbr)/(Kpbr/BP))\n        HEART' = Qhe*((ART/Var) - (HEART/Vhe)/(Kphe/BP))\n        KIDNEY' = Qki*((ART/Var) - (KIDNEY/Vki)/(Kpki/BP)) -\n            CLrenal*(((KIDNEY/Vki)*fup)/(Kpki/BP))\n        LIVER' = Qgu*((GUT/VguWall)/(Kpgu/BP)) + Qsp*((SPLEEN/Vsp)/(Kpsp/BP)) +\n            Qha*(ART/Var) - Qli*((LIVER/Vli)/(Kpli/BP)) -\n            CLintHep*(((LIVER/Vli)*fup)/(Kpli/BP))\n        LUNG' = Qlu*((VEN/Vve) - (LUNG/Vlu)/(Kplu/BP))\n        MUSCLE' = Qmu*((ART/Var) - (MUSCLE/Vmu)/(Kpmu/BP))\n        SPLEEN' = Qsp*((ART/Var) - (SPLEEN/Vsp)/(Kpsp/BP))\n        BONE' = Qbo*((ART/Var) - (BONE/Vbo)/(Kpbo/BP))\n        REST' = Qre*((ART/Var) - (REST/Vre)/(Kpre/BP))\n        VEN' = Qad*((ADIPOSE/Vad)/(Kpad/BP)) + Qbr*((BRAIN/Vbr)/(Kpbr/BP)) +\n            Qhe*((HEART/Vhe)/(Kphe/BP)) + Qki*((KIDNEY/Vki)/(Kpki/BP)) +\n            Qli*((LIVER/Vli)/(Kpli/BP)) + Qmu*((MUSCLE/Vmu)/(Kpmu/BP)) +\n            Qbo*((BONE/Vbo)/(Kpbo/BP)) + Qre*((REST/Vre)/(Kpre/BP)) -\n            Qlu*(VEN/Vve)\n        ART' = Qlu*((LUNG/Vlu)/(Kplu/BP) - (ART/Var))\n    end\n    @derived begin\n        Cvenn = VEN./Vve\n        cp ~ @. Normal(Cvenn, 0.1) #for estimation\n    end\nend"
      ],
      "metadata": {},
      "execution_count": null
    },
    {
      "cell_type": "markdown",
      "source": [
        "Let's create a subject to study the model"
      ],
      "metadata": {}
    },
    {
      "outputs": [],
      "cell_type": "code",
      "source": [
        "regimen_s = DosageRegimen(200, time=0, addl=13, ii=12, cmt=1, ss=1)\nsub_s = Subject(id=1, events=regimen_s)"
      ],
      "metadata": {},
      "execution_count": null
    },
    {
      "cell_type": "markdown",
      "source": [
        "Below are setting the initial estimates of the parameters in the model"
      ],
      "metadata": {}
    },
    {
      "outputs": [],
      "cell_type": "code",
      "source": [
        "p = (Fup = 0.42, fumic = 0.711, WEIGHT = 73, MPPGL = 30.3, MPPGI = 0,\n    C_OUTPUT = 6.5, VmaxH = 40, VmaxG = 40, KmH = 9.3, KmG = 9.3, bp = 1,\n    kpad = 9.89, kpbo = 7.91, kpbr = 7.35, kpgu = 5.82, kphe = 1.95, kpki = 2.9,\n    kpli = 4.66, kplu = 0.83, kpmu = 2.94, kpsp = 2.96, kpre = 4, MW = 349.317,\n    logP = 2.56, s_lumen = 0.39*1000, L = 280, d = 2.5, PF = 1.57, VF = 6.5,\n    MF = 13, ITT = 3.32, A = 7440, B = 1e7, alpha = 0.6, beta = 4.395, fabs = 1,\n    fdis = 1, fperm = 1, vad = 18.2, vbo = 10.5, vbr = 1.45, vguWall = 0.65,\n    vgulumen = 0.35, vhe = 0.33, vki = 0.31, vli = 1.8, vlu = 0.5, vmu = 29,\n    vsp = 0.15, vbl = 5.6, FQad = 0.05, FQbo = 0.05, FQbr = 0.12, FQgu = 0.16,\n    FQhe = 0.04, FQki = 0.19, FQli = 0.255, FQmu = 0.17, FQsp = 0.03)"
      ],
      "metadata": {},
      "execution_count": null
    },
    {
      "cell_type": "markdown",
      "source": [
        "Let's take a look at the simulation of the model to ensure everything is working as expected."
      ],
      "metadata": {}
    },
    {
      "outputs": [],
      "cell_type": "code",
      "source": [
        "simdata = simobs(model, [sub_s], p)\nplot(simdata, obsnames=[:Cvenn])"
      ],
      "metadata": {},
      "execution_count": null
    },
    {
      "cell_type": "markdown",
      "source": [
        "We can run parameter estimation on the PBPK model with the `fit` function, we'll use the simulated data to run the estimation here\n`FQad`, `FQbo`, `FQbr`, `FQgu`, `FQhe`, `FQki`, `FQli`, `FQmu` and `FQsp` will be estimated within the bounds specified and the other parameters will be fixed."
      ],
      "metadata": {}
    },
    {
      "outputs": [],
      "cell_type": "code",
      "source": [
        "data = read_pumas(DataFrame(simdata), observations = [:cp])\nft = fit(model, data, p, Pumas.NaivePooled(),\n    constantcoef = (\n        Fup = 0.42, fumic = 0.711, WEIGHT = 73, MPPGL = 30.3, MPPGI = 0,\n        C_OUTPUT = 6.5, VmaxH = 40, VmaxG = 40, KmH = 9.3, KmG = 9.3, bp = 1,\n        kpad = 9.89, kpbo = 7.91, kpbr = 7.35, kpgu = 5.82, kphe = 1.95,\n        kpki = 2.9, kpli = 4.66, kplu = 0.83, kpmu = 2.94, kpsp = 2.96,\n        kpre = 4, MW = 349.317, logP = 2.56, s_lumen = 0.39*1000, L = 280,\n        d = 2.5, PF = 1.57, VF = 6.5, MF = 13, ITT = 3.32, A = 7440, B = 1e7,\n        alpha = 0.6, beta = 4.395, fabs = 1, fdis = 1, fperm = 1, vad = 18.2,\n        vbo = 10.5, vbr = 1.45, vguWall = 0.65, vgulumen = 0.35, vhe = 0.33,\n        vki = 0.31, vli = 1.8, vlu = 0.5, vmu = 29, vsp = 0.15, vbl = 5.6),\n    ensemblealg=EnsembleThreads())"
      ],
      "metadata": {},
      "execution_count": null
    },
    {
      "cell_type": "markdown",
      "source": [
        "### GSA\n\nWe'll run the GSA on the AUC and Cmax output of the `Cvenn` variable and therefore redefine the model to include the NCA calculation."
      ],
      "metadata": {}
    },
    {
      "outputs": [],
      "cell_type": "code",
      "source": [
        "model = @model begin\n    @param begin\n        Fup ∈ RealDomain(init = 0.42)\n        fumic ∈ RealDomain(init = 0.711)\n        WEIGHT ∈ RealDomain(init = 73)\n        MPPGL ∈ RealDomain(init = 30.3)\n        MPPGI ∈ RealDomain(init = 0)\n        C_OUTPUT ∈ RealDomain(init = 6.5)\n        VmaxH ∈ RealDomain(init = 40)\n        VmaxG ∈ RealDomain(init = 40)\n        KmH ∈ RealDomain(init = 9.3)\n        KmG ∈ RealDomain(init = 9.3)\n        bp ∈ RealDomain(init = 1)\n        kpad ∈ RealDomain(init = 9.89)\n        kpbo ∈ RealDomain(init = 7.91)\n        kpbr ∈ RealDomain(init = 7.35)\n        kpgu ∈ RealDomain(init = 5.82)\n        kphe ∈ RealDomain(init = 1.95)\n        kpki ∈ RealDomain(init = 2.9)\n        kpli ∈ RealDomain(init = 4.66)\n        kplu ∈ RealDomain(init = 0.83)\n        kpmu ∈ RealDomain(init = 2.94)\n        kpsp ∈ RealDomain(init = 2.96)\n        kpre ∈ RealDomain(init = 4)\n        MW ∈ RealDomain(init = 349.317)\n        logP ∈ RealDomain(init = 2.56)\n        s_lumen ∈ RealDomain(init = 0.39*1000)\n        L ∈ RealDomain(init = 280)\n        d ∈ RealDomain(init = 2.5)\n        PF ∈ RealDomain(init = 1.57)\n        VF ∈ RealDomain(init = 6.5)\n        MF ∈ RealDomain(init = 13)\n        ITT ∈ RealDomain(init = 3.32)\n        A ∈ RealDomain(init = 7440)\n        B ∈ RealDomain(init = 1e7)\n        alpha ∈ RealDomain(init = 0.6)\n        beta ∈ RealDomain(init = 4.395)\n        fabs ∈ RealDomain(init = 1)\n        fdis ∈ RealDomain(init = 1)\n        fperm ∈ RealDomain(init = 1)\n        vad ∈ RealDomain(init = 18.2)\n        vbo ∈ RealDomain(init =10.5)\n        vbr ∈ RealDomain(init =1.45)\n        vguWall ∈ RealDomain(init =0.65)\n        vgulumen ∈ RealDomain(init =0.35)\n        vhe ∈ RealDomain(init =0.33)\n        vki ∈ RealDomain(init =0.31)\n        vli ∈ RealDomain(init =1.8)\n        vlu ∈ RealDomain(init =0.5)\n        vmu ∈ RealDomain(init =29)\n        vsp ∈ RealDomain(init =0.15)\n        vbl ∈ RealDomain(init =5.6)\n        FQad ∈ RealDomain(lower = 0.0, init = 0.05, upper = 1.0)\n        FQbo ∈ RealDomain(lower = 0.0, init = 0.05, upper = 1.0)\n        FQbr ∈ RealDomain(lower = 0.0, init = 0.12, upper = 1.0)\n        FQgu ∈ RealDomain(lower = 0.0, init = 0.16, upper = 1.0)\n        FQhe ∈ RealDomain(lower = 0.0, init = 0.04, upper = 1.0)\n        FQki ∈ RealDomain(lower = 0.0, init = 0.19, upper = 1.0)\n        FQli ∈ RealDomain(lower = 0.0, init = 0.255, upper = 1.0)\n        FQmu ∈ RealDomain(lower = 0.0, init = 0.17, upper = 1.0)\n        FQsp ∈ RealDomain(lower = 0.0, init = 0.03, upper = 1.0)\n    end\n    @pre begin\n        Vgu = vguWall + vgulumen\n        Vve = 0.705*vbl\n        Var = 0.295*vbl\n        Vre = WEIGHT - (vli+vki+vsp+vhe+vlu+vbo+vbr+vmu+vad+vguWall+vbl)\n        CO = C_OUTPUT*60\n        Qad = FQad*CO\n        Qbo = FQbo*CO\n        Qbr = FQbr*CO\n        Qgu = FQgu*CO\n        Qhe = FQhe*CO\n        Qki = FQki*CO\n        Qli = FQli*CO\n        Qmu = FQmu*CO\n        Qsp = FQsp*CO\n        Qha = Qli - (Qgu+Qsp)\n        Qtot = Qli+Qki+Qbo+Qhe+Qmu+Qad+Qbr\n        Qre = CO - Qtot\n        Qlu = CO\n        Vgulumen = vgulumen\n        S_lumen = s_lumen\n        VguWall = vguWall\n        Kpgu = kpgu\n        BP = bp\n        Vad = vad\n        Kpad = kpad\n        Vbr = vbr\n        Kpbr = kpbr\n        Vhe = vhe\n        Kphe = kphe\n        Vki = vki\n        Kpki = kpki\n        fup = Fup\n        Vsp = vsp\n        Kpsp = kpsp\n        Vli = vli\n        Kpli = kpli\n        Vlu = vlu\n        Kplu = kplu\n        Kpmu = kpmu\n        Kpre = kpre\n        Vmu = vmu\n        Vbl = vbl\n        Vbo = vbo\n        Kpbo = kpbo\n        SA_abs = pi*L*d*PF*VF*MF*1e-4\n        SA_basal = pi*L*d*PF*VF*1e-4\n        MA = 10^logP\n        MW_eff = MW - (3*17)\n        Peff = fperm*A*(((MW_eff^(-alpha-beta))*MA)/((MW_eff^(-alpha)) + B*(MW_eff^(-beta))*MA) * 1e-2 * 3600)\n        kd = fdis*Peff*SA_abs*1000/vgulumen\n        ka = fabs*Peff*SA_basal*1000/VguWall\n        kt = 1/ITT\n        scale_factor_H = MPPGL*Vli*1000\n        scale_factor_G = MPPGI*VguWall*1000\n        CLintHep = ((VmaxH/KmH)*scale_factor_H*60*1e-6)/fumic\n        CLintGut = ((VmaxG/KmG)*scale_factor_G*60*1e-6)/fumic\n        #CLintHep = CLintHep/fumic\n        #CLintGut = CLintGut/fumic\n        CLrenal = 0.096\n        f = 1\n    end\n    @dynamics begin\n        GUTLUMEN' = -kd*Vgulumen*(f*(GUTLUMEN/Vgulumen) + (1-f)*S_lumen) -\n            kt*GUTLUMEN\n        GUTWALL' = kd*Vgulumen*(f*(GUTLUMEN/Vgulumen) + (1-f)*S_lumen) -\n            ka*GUTWALL - CLintGut*(GUTWALL/VguWall)\n        GUT' = ka*GUTWALL + Qgu*((ART/Var) - (GUT/VguWall)/(Kpgu/BP))\n        ADIPOSE' = Qad*((ART/Var) - (ADIPOSE/Vad)/(Kpad/BP))\n        BRAIN' = Qbr*((ART/Var) - (BRAIN/Vbr)/(Kpbr/BP))\n        HEART' = Qhe*((ART/Var) - (HEART/Vhe)/(Kphe/BP))\n        KIDNEY' = Qki*((ART/Var) - (KIDNEY/Vki)/(Kpki/BP)) -\n            CLrenal*(((KIDNEY/Vki)*fup)/(Kpki/BP))\n        LIVER' = Qgu*((GUT/VguWall)/(Kpgu/BP)) + Qsp*((SPLEEN/Vsp)/(Kpsp/BP)) +\n            Qha*(ART/Var) - Qli*((LIVER/Vli)/(Kpli/BP)) -\n            CLintHep*(((LIVER/Vli)*fup)/(Kpli/BP))\n        LUNG' = Qlu*((VEN/Vve) - (LUNG/Vlu)/(Kplu/BP))\n        MUSCLE' = Qmu*((ART/Var) - (MUSCLE/Vmu)/(Kpmu/BP))\n        SPLEEN' = Qsp*((ART/Var) - (SPLEEN/Vsp)/(Kpsp/BP))\n        BONE' = Qbo*((ART/Var) - (BONE/Vbo)/(Kpbo/BP))\n        REST' = Qre*((ART/Var) - (REST/Vre)/(Kpre/BP))\n        VEN' = Qad*((ADIPOSE/Vad)/(Kpad/BP)) + Qbr*((BRAIN/Vbr)/(Kpbr/BP)) +\n            Qhe*((HEART/Vhe)/(Kphe/BP)) + Qki*((KIDNEY/Vki)/(Kpki/BP)) +\n            Qli*((LIVER/Vli)/(Kpli/BP)) + Qmu*((MUSCLE/Vmu)/(Kpmu/BP)) +\n            Qbo*((BONE/Vbo)/(Kpbo/BP)) + Qre*((REST/Vre)/(Kpre/BP)) -\n            Qlu*(VEN/Vve)\n        ART' = Qlu*((LUNG/Vlu)/(Kplu/BP) - (ART/Var))\n    end\n    @derived begin\n        Cvenn = VEN./Vve\n        #capturing NCA metrics for evaluations\n        nca := @nca Cvenn\n        auc =  last(NCA.auc(nca))\n        cmax = last(NCA.cmax(nca))\n    end\nend"
      ],
      "metadata": {},
      "execution_count": null
    },
    {
      "cell_type": "markdown",
      "source": [
        "To run the GSA we'll define the parameter ranges for our parameters of interest."
      ],
      "metadata": {}
    },
    {
      "outputs": [],
      "cell_type": "code",
      "source": [
        "p_range_low = (fperm=1/3, s_lumen=390/3, ITT = 3.32/3, MPPGI=1.44/3, )\n\np_range_high = (fperm=1*3, s_lumen=390*3, ITT = 3.32*3, MPPGI=1.44*3, )"
      ],
      "metadata": {},
      "execution_count": null
    },
    {
      "cell_type": "markdown",
      "source": [
        "Now, we are ready to run GSA on our model.\n\n#### The Sobol Method\n\nWe will run the Sobol method for 1000 iterations, please note that this takes a couple of hours to finish because of the complexity of the model."
      ],
      "metadata": {}
    },
    {
      "outputs": [],
      "cell_type": "code",
      "source": [
        "sobol_ = Pumas.gsa(model, sub_s, p, Pumas.Sobol(), [:cmax,:auc], p_range_low,p_range_high, N=1000, obstimes=0:1:300)"
      ],
      "metadata": {},
      "execution_count": null
    },
    {
      "cell_type": "markdown",
      "source": [
        "We can use scatter plot the result to visualize the result."
      ],
      "metadata": {}
    },
    {
      "outputs": [],
      "cell_type": "code",
      "source": [
        "keys_ = keys(p_range_low)\ncmax_s1 = [sobol_.first_order[1,:][key] for key in keys_]\ncmax_st = [sobol_.total_order[1,:][key] for key in keys_]\n\nplot_cmax = scatter([string.(keys_)...], cmax_s1, ylims = (0,1), label = \"First Order\",title=\"Cmax\")\nscatter!(plot_cmax,[string.(keys_)...], cmax_st, ylims = (0,1), label = \"Total Order\", marker=:utriangle)\n\nauc_s1 = [sobol_.first_order[2,:][key] for key in keys_]\nauc_st = [sobol_.total_order[2,:][key] for key in keys_]\nplot_auc = scatter([string.(keys_)...], auc_s1, ylims = (0,1), label = \"First Order\", title=\"AUC\")\nscatter!(plot_auc, [string.(keys_)...], auc_st, ylims = (0,1), label = \"Total Order\", marker=:utriangle)\nplot(plot_cmax, plot_auc, size = (1200,400))"
      ],
      "metadata": {},
      "execution_count": null
    },
    {
      "cell_type": "markdown",
      "source": [
        "### The eFAST method\n\neFAST method allows the estimation of first order and total Sobol indices in a more computationaly efficient way."
      ],
      "metadata": {}
    },
    {
      "outputs": [],
      "cell_type": "code",
      "source": [
        "eFAST_ = Pumas.gsa(model, sub_s, p, Pumas.eFAST(), [:cmax,:auc], p_range_low, p_range_high, n=1000, obstimes=0:1:300)"
      ],
      "metadata": {},
      "execution_count": null
    },
    {
      "cell_type": "markdown",
      "source": [
        "We can use scatter plot the result to visualize the result."
      ],
      "metadata": {}
    },
    {
      "outputs": [],
      "cell_type": "code",
      "source": [
        "keys_ = keys(p_range_low)\ncmax_s1 = [eFAST_.first_order[1,:][key] for key in keys_]\ncmax_st = [eFAST_.total_order[1,:][key] for key in keys_]\n\nplot_cmax = scatter([string.(keys_)...], cmax_s1, ylims = (0,1), label = \"First Order\",title=\"Cmax\")\nscatter!(plot_cmax,[string.(keys_)...], cmax_st, ylims = (0,1), label = \"Total Order\", marker=:utriangle)\n\nauc_s1 = [eFAST_.first_order[2,:][key] for key in keys_]\nauc_st = [eFAST_.total_order[2,:][key] for key in keys_]\nplot_auc = scatter([string.(keys_)...], auc_s1, ylims = (0,1), label = \"First Order\", title=\"AUC\")\nscatter!(plot_auc,[string.(keys_)...], auc_st, ylims = (0,1), label = \"Total Order\", marker=:utriangle)\nplot(plot_cmax, plot_auc, size = (1200,400))"
      ],
      "metadata": {},
      "execution_count": null
    },
    {
      "cell_type": "markdown",
      "source": [
        "## Conclusion\n\nWe observe for both AUC and Cmax `fperm` and `MPPGI` show high values for both First and Total Order indices of Sobol whereas `s_lumen` and `ITT` have no effect\nat all and show a value of zero for the indices."
      ],
      "metadata": {}
    }
  ],
  "nbformat_minor": 2,
  "metadata": {
    "language_info": {
      "file_extension": ".jl",
      "mimetype": "application/julia",
      "name": "julia",
      "version": "1.6.0"
    },
    "kernelspec": {
      "name": "julia-1.6",
      "display_name": "Julia 1.6.0",
      "language": "julia"
    }
  },
  "nbformat": 4
}
